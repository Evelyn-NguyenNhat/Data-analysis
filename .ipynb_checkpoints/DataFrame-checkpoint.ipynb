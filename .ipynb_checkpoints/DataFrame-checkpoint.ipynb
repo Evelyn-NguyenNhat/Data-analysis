{
 "cells": [
  {
   "cell_type": "code",
   "execution_count": 6,
   "id": "e97e579f-5b8c-4c2d-94ea-05f342c187c8",
   "metadata": {},
   "outputs": [],
   "source": [
    "#THUC HANH VOI DATAFRAME\n",
    "#dataframe là một cấu trúc dữ liệu 2 chiều trong Pandas, giống như một bảng trong cơ sở dữ liệu hoặc một bảng tính excel\n",
    "#mỗi cột có thể chứa dữ liệu khác nhau, ví dụ như số nguyên, chuỗi, boolean, hoặc ngày tháng"
   ]
  },
  {
   "cell_type": "code",
   "execution_count": 7,
   "id": "e0dea14e-cf77-4afb-a2e6-ec1defd0d39c",
   "metadata": {},
   "outputs": [],
   "source": [
    "#Load dữ liệu vào "
   ]
  },
  {
   "cell_type": "code",
   "execution_count": 8,
   "id": "0da94e76-3b46-4c86-99e2-352a3de350d9",
   "metadata": {},
   "outputs": [],
   "source": [
    "import pandas as pd\n",
    "df=pd.read_csv('D:/Data-Analysis/data.csv')"
   ]
  },
  {
   "cell_type": "code",
   "execution_count": 9,
   "id": "915e8f16-6e20-4d07-b5a4-b027912fc022",
   "metadata": {},
   "outputs": [
    {
     "name": "stdout",
     "output_type": "stream",
     "text": [
      "    Duration          Date  Pulse  Maxpulse  Calories\n",
      "0         60  '2020/12/01'    110       130     409.1\n",
      "1         60  '2020/12/02'    117       145     479.0\n",
      "2         60  '2020/12/03'    103       135     340.0\n",
      "3         45  '2020/12/04'    109       175     282.4\n",
      "4         45  '2020/12/05'    117       148     406.0\n",
      "5         60  '2020/12/06'    102       127     300.0\n",
      "6         60  '2020/12/07'    110       136     374.0\n",
      "7        450  '2020/12/08'    104       134     253.3\n",
      "8         30  '2020/12/09'    109       133     195.1\n",
      "9         60  '2020/12/10'     98       124     269.0\n",
      "10        60  '2020/12/11'    103       147     329.3\n",
      "11        60  '2020/12/12'    100       120     250.7\n",
      "12        60  '2020/12/12'    100       120     250.7\n",
      "13        60  '2020/12/13'    106       128     345.3\n",
      "14        60  '2020/12/14'    104       132     379.3\n",
      "15        60  '2020/12/15'     98       123     275.0\n",
      "16        60  '2020/12/16'     98       120     215.2\n",
      "17        60  '2020/12/17'    100       120     300.0\n",
      "18        45  '2020/12/18'     90       112       NaN\n",
      "19        60  '2020/12/19'    103       123     323.0\n",
      "20        45  '2020/12/20'     97       125     243.0\n",
      "21        60  '2020/12/21'    108       131     364.2\n",
      "22        45           NaN    100       119     282.0\n",
      "23        60  '2020/12/23'    130       101     300.0\n",
      "24        45  '2020/12/24'    105       132     246.0\n",
      "25        60  '2020/12/25'    102       126     334.5\n",
      "26        60      20201226    100       120     250.0\n",
      "27        60  '2020/12/27'     92       118     241.0\n",
      "28        60  '2020/12/28'    103       132       NaN\n",
      "29        60  '2020/12/29'    100       132     280.0\n",
      "30        60  '2020/12/30'    102       129     380.3\n",
      "31        60  '2020/12/31'     92       115     243.0\n"
     ]
    }
   ],
   "source": [
    "print(df)"
   ]
  },
  {
   "cell_type": "raw",
   "id": "f3539570-60bd-48ac-a53f-313083f4a38d",
   "metadata": {},
   "source": [
    "Lọc và sắp xếp dữ liệu\n",
    "Tổng hợp dữ liệu và kỹ thuật aggregation\n",
    "Kỹ thuật mapping và windowinhg\n",
    "Liên kết dữ liệu từ nhiều bảng"
   ]
  },
  {
   "cell_type": "code",
   "execution_count": 10,
   "id": "2912e72f-9a39-4384-8334-32f5e5f35af2",
   "metadata": {},
   "outputs": [
    {
     "name": "stdout",
     "output_type": "stream",
     "text": [
      "0      True\n",
      "1      True\n",
      "2      True\n",
      "3     False\n",
      "4      True\n",
      "5     False\n",
      "6      True\n",
      "7     False\n",
      "8     False\n",
      "9     False\n",
      "10     True\n",
      "11    False\n",
      "12    False\n",
      "13     True\n",
      "14     True\n",
      "15    False\n",
      "16    False\n",
      "17    False\n",
      "18    False\n",
      "19     True\n",
      "20    False\n",
      "21     True\n",
      "22    False\n",
      "23    False\n",
      "24    False\n",
      "25     True\n",
      "26    False\n",
      "27    False\n",
      "28    False\n",
      "29    False\n",
      "30     True\n",
      "31    False\n",
      "Name: Calories, dtype: bool\n"
     ]
    }
   ],
   "source": [
    "#Filtering\n",
    "df_filtered=df['Calories']>300\n",
    "print(df_filtered)"
   ]
  },
  {
   "cell_type": "raw",
   "id": "d16971a4-671c-4238-af9b-260bfe0f2e1a",
   "metadata": {},
   "source": [
    "Đoạn code này làm việc với một DataFrame df, một cấu trúc dữ liệu trong thư viện pandas của Python. DataFrame giống như một bảng với các hàng và cột, tương tự như bảng tính Excel hoặc bảng trong SQL.\n",
    "DataFrame df có một cột tên là 'Calories', chứa các giá trị số biểu thị lượng calo (ví dụ: calo của thực phẩm, bữa ăn, v.v.).\n",
    "Biểu thức df['Calories'] > 300 thực hiện một phép so sánh trên cột 'Calories' của DataFrame.\n",
    "Với mỗi giá trị trong cột 'Calories', nó kiểm tra xem giá trị đó có lớn hơn 300 hay không.\n",
    "Kết quả của phép so sánh này là một pandas Series chứa các giá trị boolean (True hoặc False):\n",
    "True cho các hàng mà lượng calo lớn hơn 300.\n",
    "False cho các hàng mà lượng calo nhỏ hơn hoặc bằng 300.\n"
   ]
  },
  {
   "cell_type": "code",
   "execution_count": 11,
   "id": "a9d32503-bafb-4f2f-bae1-0950faa9e18f",
   "metadata": {},
   "outputs": [
    {
     "name": "stdout",
     "output_type": "stream",
     "text": [
      "    Duration          Date  Pulse  Maxpulse  Calories\n",
      "0         60  '2020/12/01'    110       130     409.1\n",
      "1         60  '2020/12/02'    117       145     479.0\n",
      "2         60  '2020/12/03'    103       135     340.0\n",
      "4         45  '2020/12/05'    117       148     406.0\n",
      "6         60  '2020/12/07'    110       136     374.0\n",
      "10        60  '2020/12/11'    103       147     329.3\n",
      "13        60  '2020/12/13'    106       128     345.3\n",
      "14        60  '2020/12/14'    104       132     379.3\n",
      "19        60  '2020/12/19'    103       123     323.0\n",
      "21        60  '2020/12/21'    108       131     364.2\n",
      "25        60  '2020/12/25'    102       126     334.5\n",
      "30        60  '2020/12/30'    102       129     380.3\n"
     ]
    }
   ],
   "source": [
    "# Lấy các hàng thực sự có calories>300\n",
    "df_filtered=df[df['Calories']>300]\n",
    "print(df_filtered)"
   ]
  },
  {
   "cell_type": "code",
   "execution_count": 12,
   "id": "5477128d-19dd-45cb-9441-9a9f7fe968e2",
   "metadata": {},
   "outputs": [
    {
     "name": "stdout",
     "output_type": "stream",
     "text": [
      "    Duration          Date  Pulse  Maxpulse  Calories\n",
      "0         60  '2020/12/01'    110       130     409.1\n",
      "1         60  '2020/12/02'    117       145     479.0\n",
      "2         60  '2020/12/03'    103       135     340.0\n",
      "3         45  '2020/12/04'    109       175     282.4\n",
      "4         45  '2020/12/05'    117       148     406.0\n",
      "5         60  '2020/12/06'    102       127     300.0\n",
      "6         60  '2020/12/07'    110       136     374.0\n",
      "7        450  '2020/12/08'    104       134     253.3\n",
      "8         30  '2020/12/09'    109       133     195.1\n",
      "9         60  '2020/12/10'     98       124     269.0\n",
      "10        60  '2020/12/11'    103       147     329.3\n",
      "11        60  '2020/12/12'    100       120     250.7\n",
      "12        60  '2020/12/12'    100       120     250.7\n",
      "13        60  '2020/12/13'    106       128     345.3\n",
      "14        60  '2020/12/14'    104       132     379.3\n",
      "15        60  '2020/12/15'     98       123     275.0\n",
      "16        60  '2020/12/16'     98       120     215.2\n",
      "17        60  '2020/12/17'    100       120     300.0\n",
      "18        45  '2020/12/18'     90       112       NaN\n",
      "19        60  '2020/12/19'    103       123     323.0\n",
      "20        45  '2020/12/20'     97       125     243.0\n",
      "21        60  '2020/12/21'    108       131     364.2\n",
      "22        45           NaN    100       119     282.0\n",
      "23        60  '2020/12/23'    130       101     300.0\n",
      "24        45  '2020/12/24'    105       132     246.0\n",
      "25        60  '2020/12/25'    102       126     334.5\n",
      "26        60      20201226    100       120     250.0\n",
      "27        60  '2020/12/27'     92       118     241.0\n",
      "28        60  '2020/12/28'    103       132       NaN\n",
      "29        60  '2020/12/29'    100       132     280.0\n",
      "30        60  '2020/12/30'    102       129     380.3\n",
      "31        60  '2020/12/31'     92       115     243.0\n"
     ]
    }
   ],
   "source": [
    "# Lọc theo nhiều điều kiện (AND/OR)\n",
    "#Lọc dữ liệu có Calories > 300 **và** Pulse < 110\n",
    "df_filtered=df[(df['Calories']>300) & (df['Pulse']<110)]\n",
    "print(df)"
   ]
  },
  {
   "cell_type": "code",
   "execution_count": 13,
   "id": "003ee69d-c5d4-4a86-a18b-3709813b5586",
   "metadata": {},
   "outputs": [
    {
     "name": "stdout",
     "output_type": "stream",
     "text": [
      "    Duration          Date  Pulse  Maxpulse  Calories\n",
      "1         60  '2020/12/02'    117       145     479.0\n",
      "2         60  '2020/12/03'    103       135     340.0\n",
      "3         45  '2020/12/04'    109       175     282.4\n",
      "4         45  '2020/12/05'    117       148     406.0\n",
      "6         60  '2020/12/07'    110       136     374.0\n",
      "7        450  '2020/12/08'    104       134     253.3\n",
      "8         30  '2020/12/09'    109       133     195.1\n",
      "10        60  '2020/12/11'    103       147     329.3\n",
      "14        60  '2020/12/14'    104       132     379.3\n",
      "21        60  '2020/12/21'    108       131     364.2\n",
      "24        45  '2020/12/24'    105       132     246.0\n",
      "28        60  '2020/12/28'    103       132       NaN\n",
      "29        60  '2020/12/29'    100       132     280.0\n"
     ]
    }
   ],
   "source": [
    "#Lọc dữ liệu có Maxpulse >130 hoặc Duration > 60\n",
    "df_filtered=df[(df['Maxpulse']>130)|(df['Duration']>60)]\n",
    "print(df_filtered)"
   ]
  },
  {
   "cell_type": "raw",
   "id": "75e4cc9f-ab49-4b98-bdc1-f4f117994ea1",
   "metadata": {},
   "source": [
    "HÀM ISIN \n",
    "Kiểm tra xem mỗi giá trị nằm trong cột có nằm trong danh sách giá trị cụ thể không.\n",
    "Nó trả về một mảng Boolean(True hoặc False) ứng với từng dòng"
   ]
  },
  {
   "cell_type": "code",
   "execution_count": 14,
   "id": "487c229d-8fc6-40cf-87ee-a511a0e181c9",
   "metadata": {},
   "outputs": [
    {
     "name": "stdout",
     "output_type": "stream",
     "text": [
      "<class 'pandas.core.frame.DataFrame'>\n",
      "RangeIndex: 32 entries, 0 to 31\n",
      "Data columns (total 5 columns):\n",
      " #   Column    Non-Null Count  Dtype  \n",
      "---  ------    --------------  -----  \n",
      " 0   Duration  32 non-null     int64  \n",
      " 1   Date      31 non-null     object \n",
      " 2   Pulse     32 non-null     int64  \n",
      " 3   Maxpulse  32 non-null     int64  \n",
      " 4   Calories  30 non-null     float64\n",
      "dtypes: float64(1), int64(3), object(1)\n",
      "memory usage: 1.4+ KB\n"
     ]
    }
   ],
   "source": [
    "df.info()\n"
   ]
  },
  {
   "cell_type": "code",
   "execution_count": 15,
   "id": "c02ac542-dd35-465c-9393-9daafe8031ed",
   "metadata": {},
   "outputs": [
    {
     "name": "stdout",
     "output_type": "stream",
     "text": [
      "    Duration       Date  Pulse  Maxpulse  Calories\n",
      "4         45 2020-12-05    117       148     406.0\n",
      "5         60 2020-12-06    102       127     300.0\n",
      "11        60 2020-12-12    100       120     250.7\n",
      "12        60 2020-12-12    100       120     250.7\n",
      "13        60 2020-12-13    106       128     345.3\n",
      "19        60 2020-12-19    103       123     323.0\n",
      "20        45 2020-12-20     97       125     243.0\n",
      "27        60 2020-12-27     92       118     241.0\n"
     ]
    }
   ],
   "source": [
    "\n",
    "# B1: Tạo DataFrame (giả định đã import từ CSV hoặc sẵn có)\n",
    "df['Date'] = pd.to_datetime(df['Date'], errors='coerce')  # Chuyển về định dạng datetime\n",
    "# B2: Lọc cuối tuần (Saturday=5, Sunday=6)\n",
    "df_weekends = df[df['Date'].dt.dayofweek.isin([5, 6])]\n",
    "print(df_weekends)\n",
    "\n",
    "#hàm .dt.dayofweek trong pandas dùng để kiểm tra một ngày là thứ mấy trong tuần\n",
    "#cụ thể nó trả về một số nguyên từ 0 đến 6 tương ứng với các ngày trong tuần\n",
    "#0:monday, 6:sunday"
   ]
  },
  {
   "cell_type": "code",
   "execution_count": 16,
   "id": "2d2a816a-b759-415f-8c91-797514096714",
   "metadata": {},
   "outputs": [
    {
     "name": "stdout",
     "output_type": "stream",
     "text": [
      "    Duration       Date  Pulse  Maxpulse  Calories\n",
      "20        45 2020-12-20     97       125     243.0\n"
     ]
    }
   ],
   "source": [
    "#B3: Lọc ngày lễ (ví dụ: 20/12)\n",
    "holidays=pd.to_datetime(['2020-12-20'])\n",
    "df_holidays=df[df['Date'].isin(holidays)]\n",
    "           \n",
    "print(df_holidays)"
   ]
  },
  {
   "cell_type": "code",
   "execution_count": 17,
   "id": "bc89d9b6-a01f-4ad7-845f-66d36751a2ec",
   "metadata": {},
   "outputs": [
    {
     "name": "stdout",
     "output_type": "stream",
     "text": [
      "         Date  Duration  Calories\n",
      "4  2020-12-05        45     406.0\n",
      "5  2020-12-06        60     300.0\n",
      "11 2020-12-12        60     250.7\n",
      "13 2020-12-13        60     345.3\n",
      "19 2020-12-19        60     323.0\n",
      "20 2020-12-20        45     243.0\n",
      "27 2020-12-27        60     241.0\n"
     ]
    }
   ],
   "source": [
    "# Kết quả cuối: gộp lại\n",
    "df_dayoff = pd.concat([df_weekends, df_holidays]).drop_duplicates()\n",
    "print(df_dayoff[['Date', 'Duration', 'Calories']])"
   ]
  },
  {
   "cell_type": "code",
   "execution_count": 18,
   "id": "0e230f7f-3552-4f6d-adf3-8102e892d99c",
   "metadata": {},
   "outputs": [],
   "source": [
    "#sắp xếp dữ liệu (sorting data)"
   ]
  },
  {
   "cell_type": "code",
   "execution_count": 19,
   "id": "21a08932-e651-4b8c-84cf-ef8f345455cf",
   "metadata": {},
   "outputs": [
    {
     "name": "stdout",
     "output_type": "stream",
     "text": [
      "    Duration       Date  Pulse  Maxpulse  Calories\n",
      "1         60 2020-12-02    117       145     479.0\n",
      "0         60 2020-12-01    110       130     409.1\n",
      "4         45 2020-12-05    117       148     406.0\n",
      "30        60 2020-12-30    102       129     380.3\n",
      "14        60 2020-12-14    104       132     379.3\n",
      "6         60 2020-12-07    110       136     374.0\n",
      "21        60 2020-12-21    108       131     364.2\n",
      "13        60 2020-12-13    106       128     345.3\n",
      "2         60 2020-12-03    103       135     340.0\n",
      "25        60 2020-12-25    102       126     334.5\n",
      "10        60 2020-12-11    103       147     329.3\n",
      "19        60 2020-12-19    103       123     323.0\n",
      "23        60 2020-12-23    130       101     300.0\n",
      "5         60 2020-12-06    102       127     300.0\n",
      "17        60 2020-12-17    100       120     300.0\n",
      "3         45 2020-12-04    109       175     282.4\n",
      "22        45        NaT    100       119     282.0\n",
      "29        60 2020-12-29    100       132     280.0\n",
      "15        60 2020-12-15     98       123     275.0\n",
      "9         60 2020-12-10     98       124     269.0\n",
      "7        450 2020-12-08    104       134     253.3\n",
      "11        60 2020-12-12    100       120     250.7\n",
      "12        60 2020-12-12    100       120     250.7\n",
      "26        60        NaT    100       120     250.0\n",
      "24        45 2020-12-24    105       132     246.0\n",
      "31        60 2020-12-31     92       115     243.0\n",
      "20        45 2020-12-20     97       125     243.0\n",
      "27        60 2020-12-27     92       118     241.0\n",
      "16        60 2020-12-16     98       120     215.2\n",
      "8         30 2020-12-09    109       133     195.1\n",
      "18        45 2020-12-18     90       112       NaN\n",
      "28        60 2020-12-28    103       132       NaN\n"
     ]
    }
   ],
   "source": [
    "df_sorted=df.sort_values(by='Calories', ascending=False)\n",
    "print(df_sorted)"
   ]
  },
  {
   "cell_type": "code",
   "execution_count": 20,
   "id": "5f042516-95ac-430e-84cf-90df1ac95635",
   "metadata": {},
   "outputs": [
    {
     "name": "stdout",
     "output_type": "stream",
     "text": [
      "         Date  Pulse  Maxpulse\n",
      "1  2020-12-02    117       145\n",
      "4  2020-12-05    117       148\n",
      "23 2020-12-23    130       101\n"
     ]
    }
   ],
   "source": [
    "# Giả sử vận động viên VIP có Pulse > 110\n",
    "df_vip = df[df['Pulse'] > 110]\n",
    "print(df_vip[['Date', 'Pulse', 'Maxpulse']])\n"
   ]
  },
  {
   "cell_type": "code",
   "execution_count": 21,
   "id": "ba79a0d3-fa4e-4aab-bd63-1b57d691afeb",
   "metadata": {},
   "outputs": [
    {
     "name": "stdout",
     "output_type": "stream",
     "text": [
      "    Name  Age       City    Salary\n",
      "0     An   25     Hà Nội  15000000\n",
      "1   Bình   30     TP.HCM  20000000\n",
      "2  Cường   22    Đà Nẵng  12000000\n",
      "3   Dung   28  Hải Phòng  18000000\n",
      "4    Hòa   35    Cần Thơ  25000000\n"
     ]
    }
   ],
   "source": [
    "import pandas as pd\n",
    "\n",
    "data = {\n",
    "    'Name': ['An', 'Bình', 'Cường', 'Dung', 'Hòa'],\n",
    "    'Age': [25, 30, 22, 28, 35],\n",
    "    'City': ['Hà Nội', 'TP.HCM', 'Đà Nẵng', 'Hải Phòng', 'Cần Thơ'],\n",
    "    'Salary': [15000000, 20000000, 12000000, 18000000, 25000000]\n",
    "}\n",
    "\n",
    "df = pd.DataFrame(data)\n",
    "print(df)"
   ]
  },
  {
   "cell_type": "raw",
   "id": "6085ad09-c8b8-430f-bb38-646d7b422f91",
   "metadata": {},
   "source": [
    "Bài 1: Lọc những người có lương trên 15 triệu\n",
    "Yêu cầu: Lọc các hàng trong DataFrame mà Salary lớn hơn 15,000,000."
   ]
  },
  {
   "cell_type": "code",
   "execution_count": 22,
   "id": "922cfb4b-b130-42a1-a83c-2393187ca88c",
   "metadata": {},
   "outputs": [
    {
     "name": "stdout",
     "output_type": "stream",
     "text": [
      "   Name  Age       City    Salary\n",
      "1  Bình   30     TP.HCM  20000000\n",
      "3  Dung   28  Hải Phòng  18000000\n",
      "4   Hòa   35    Cần Thơ  25000000\n"
     ]
    }
   ],
   "source": [
    "df_Salary=df[(df['Salary'])>15000000]\n",
    "print(df_Salary)\n",
    "#Điều kiện df['Salary'] > 15000000 tạo một Series boolean, sau đó được dùng để lọc các hàng thỏa mãn."
   ]
  },
  {
   "cell_type": "raw",
   "id": "10c79443-f487-4f7e-8af7-e8774c88a5d8",
   "metadata": {},
   "source": [
    "Bài 2: Lọc những người dưới 30 tuổi và sống ở Hà Nội\n",
    "Yêu cầu: Lọc các hàng mà Age nhỏ hơn 30 và City là 'Hà Nội'."
   ]
  },
  {
   "cell_type": "code",
   "execution_count": 23,
   "id": "12e65718-fb33-43c9-90c7-8741aceb0b0b",
   "metadata": {},
   "outputs": [
    {
     "name": "stdout",
     "output_type": "stream",
     "text": [
      "  Name  Age    City    Salary\n",
      "0   An   25  Hà Nội  15000000\n"
     ]
    }
   ],
   "source": [
    "df_loc=df[(df['Age']<30) & (df['City']=='Hà Nội')]\n",
    "print(df_loc)"
   ]
  },
  {
   "cell_type": "raw",
   "id": "46a7b3ab-86e9-448d-8145-fda82a8f3c32",
   "metadata": {},
   "source": [
    "Bai 3: Loc nhung nguoi co luong tu 12 trieu den 20 trieu\n",
    "Loc cac hang ma Salary nam trong khoang tu 12,000,000 den 20,000,000"
   ]
  },
  {
   "cell_type": "code",
   "execution_count": 24,
   "id": "e2c3be19-52d2-438c-b8c6-2f18de7cc7dc",
   "metadata": {},
   "outputs": [
    {
     "name": "stdout",
     "output_type": "stream",
     "text": [
      "    Name  Age       City    Salary\n",
      "0     An   25     Hà Nội  15000000\n",
      "1   Bình   30     TP.HCM  20000000\n",
      "2  Cường   22    Đà Nẵng  12000000\n",
      "3   Dung   28  Hải Phòng  18000000\n"
     ]
    }
   ],
   "source": [
    "filtered_df = df[(df['Salary'] >= 12000000) & (df['Salary'] <= 20000000)]\n",
    "print(filtered_df)"
   ]
  },
  {
   "cell_type": "raw",
   "id": "d5392d93-8f91-4ad1-a590-08ad12eb9104",
   "metadata": {},
   "source": [
    "Bài 4: Lọc những người không sống ở TP.HCM\n",
    "Yêu cầu: Lọc các hàng mà City không phải là 'TP.HCM'."
   ]
  },
  {
   "cell_type": "code",
   "execution_count": 25,
   "id": "87794ddc-212d-426b-8a02-6ac0004a2b60",
   "metadata": {},
   "outputs": [
    {
     "name": "stdout",
     "output_type": "stream",
     "text": [
      "    Name  Age       City    Salary\n",
      "0     An   25     Hà Nội  15000000\n",
      "2  Cường   22    Đà Nẵng  12000000\n",
      "3   Dung   28  Hải Phòng  18000000\n",
      "4    Hòa   35    Cần Thơ  25000000\n"
     ]
    }
   ],
   "source": [
    "filtered_df = df[df['City'] != 'TP.HCM']\n",
    "print(filtered_df)"
   ]
  },
  {
   "cell_type": "raw",
   "id": "16c71507-a69d-4d23-a60f-a07148093229",
   "metadata": {},
   "source": [
    "Bài 5: Lọc những người có tên bắt đầu bằng chữ 'H'\n",
    "Yêu cầu: Lọc các hàng mà Name bắt đầu bằng chữ 'H'."
   ]
  },
  {
   "cell_type": "code",
   "execution_count": 26,
   "id": "27f7c4a6-7ca6-4974-8b8a-bda735b40807",
   "metadata": {},
   "outputs": [
    {
     "name": "stdout",
     "output_type": "stream",
     "text": [
      "  Name  Age     City    Salary\n",
      "4  Hòa   35  Cần Thơ  25000000\n"
     ]
    }
   ],
   "source": [
    "filtered_df=df[df['Name'].str.startswith('H')]\n",
    "print(filtered_df)"
   ]
  },
  {
   "cell_type": "raw",
   "id": "c1101af2-76c4-4347-81ce-77ab6bd341b4",
   "metadata": {},
   "source": [
    "BAI TAP SAP XEP DU LIEU"
   ]
  },
  {
   "cell_type": "code",
   "execution_count": 27,
   "id": "e284328a-b160-44ce-ae0e-b40f431c76e1",
   "metadata": {},
   "outputs": [
    {
     "name": "stdout",
     "output_type": "stream",
     "text": [
      "    Name  Age       City    Salary\n",
      "2  Cường   22    Đà Nẵng  12000000\n",
      "0     An   25     Hà Nội  15000000\n",
      "3   Dung   28  Hải Phòng  18000000\n",
      "1   Bình   30     TP.HCM  20000000\n",
      "4    Hòa   35    Cần Thơ  25000000\n"
     ]
    }
   ],
   "source": [
    "sorted_df=df.sort_values(by='Age')\n",
    "print(sorted_df)"
   ]
  },
  {
   "cell_type": "raw",
   "id": "317b7e99-6e8f-4613-9825-b198e6347062",
   "metadata": {},
   "source": [
    "SAP XEP DATAFRAME THEO LUONG GIAM DAN"
   ]
  },
  {
   "cell_type": "code",
   "execution_count": 28,
   "id": "16d8a20c-2d00-42a5-8f05-e07ae7618097",
   "metadata": {},
   "outputs": [
    {
     "name": "stdout",
     "output_type": "stream",
     "text": [
      "    Name  Age       City    Salary\n",
      "4    Hòa   35    Cần Thơ  25000000\n",
      "1   Bình   30     TP.HCM  20000000\n",
      "3   Dung   28  Hải Phòng  18000000\n",
      "0     An   25     Hà Nội  15000000\n",
      "2  Cường   22    Đà Nẵng  12000000\n"
     ]
    }
   ],
   "source": [
    "sorted_df=df.sort_values(by='Salary', ascending=False)\n",
    "print(sorted_df)"
   ]
  },
  {
   "cell_type": "raw",
   "id": "995a987c-20f4-41fa-90ef-464e6759c861",
   "metadata": {},
   "source": [
    "Bài 8: Sắp xếp DataFrame theo tuổi tăng dần, nếu tuổi bằng nhau thì theo lương giảm dần\n",
    "Yêu cầu: Sắp xếp DataFrame theo cột Age tăng dần, và khi tuổi bằng nhau, sắp xếp theo Salary giảm dần."
   ]
  },
  {
   "cell_type": "code",
   "execution_count": 29,
   "id": "6f44365b-e628-4ad9-ab6b-bf33d01c07b5",
   "metadata": {},
   "outputs": [
    {
     "name": "stdout",
     "output_type": "stream",
     "text": [
      "    Name  Age       City    Salary\n",
      "2  Cường   22    Đà Nẵng  12000000\n",
      "0     An   25     Hà Nội  15000000\n",
      "3   Dung   28  Hải Phòng  18000000\n",
      "1   Bình   30     TP.HCM  20000000\n",
      "4    Hòa   35    Cần Thơ  25000000\n"
     ]
    }
   ],
   "source": [
    "sorted_df = df.sort_values(by=['Age', 'Salary'], ascending=[True, False])\n",
    "print(sorted_df)"
   ]
  },
  {
   "cell_type": "raw",
   "id": "15db35e8-e06d-45ef-a777-0187a0abe97a",
   "metadata": {},
   "source": [
    "Bài 10: Kết hợp lọc và sắp xếp\n",
    "Yêu cầu: Lọc những người có lương trên 15 triệu, sau đó sắp xếp theo tuổi giảm dần."
   ]
  },
  {
   "cell_type": "code",
   "execution_count": 30,
   "id": "8d54555f-893c-4880-b752-c580b86ea4e0",
   "metadata": {},
   "outputs": [
    {
     "name": "stdout",
     "output_type": "stream",
     "text": [
      "   Name  Age       City    Salary\n",
      "4   Hòa   35    Cần Thơ  25000000\n",
      "1  Bình   30     TP.HCM  20000000\n",
      "3  Dung   28  Hải Phòng  18000000\n"
     ]
    }
   ],
   "source": [
    "filtered_sorted_df = df[df['Salary'] > 15000000].sort_values(by='Age', ascending=False)\n",
    "print(filtered_sorted_df)"
   ]
  },
  {
   "cell_type": "raw",
   "id": "8024ca7f-da3e-4320-ae65-9834ae15484d",
   "metadata": {},
   "source": [
    "PRACTICE"
   ]
  },
  {
   "cell_type": "code",
   "execution_count": 31,
   "id": "382ee5cf-a0ae-43fa-9bdb-7dfd6c099f63",
   "metadata": {},
   "outputs": [
    {
     "name": "stdout",
     "output_type": "stream",
     "text": [
      "    Name  Age       City    Salary Department  Experience\n",
      "0     An   25     Hà Nội  15000000         IT           3\n",
      "1   Bình   30     TP.HCM  20000000         HR           7\n",
      "2  Cường   22    Đà Nẵng  12000000  Marketing           1\n",
      "3   Dung   28  Hải Phòng  18000000         IT           5\n",
      "4    Hòa   35    Cần Thơ  25000000    Finance          10\n",
      "5    Lan   27     Hà Nội  17000000         HR           4\n",
      "6   Minh   40     TP.HCM  22000000         IT          15\n",
      "7   Ngọc   23    Đà Nẵng  14000000  Marketing           2\n"
     ]
    }
   ],
   "source": [
    "import pandas as pd\n",
    "\n",
    "data = {\n",
    "    'Name': ['An', 'Bình', 'Cường', 'Dung', 'Hòa', 'Lan', 'Minh', 'Ngọc'],\n",
    "    'Age': [25, 30, 22, 28, 35, 27, 40, 23],\n",
    "    'City': ['Hà Nội', 'TP.HCM', 'Đà Nẵng', 'Hải Phòng', 'Cần Thơ', 'Hà Nội', 'TP.HCM', 'Đà Nẵng'],\n",
    "    'Salary': [15000000, 20000000, 12000000, 18000000, 25000000, 17000000, 22000000, 14000000],\n",
    "    'Department': ['IT', 'HR', 'Marketing', 'IT', 'Finance', 'HR', 'IT', 'Marketing'],\n",
    "    'Experience': [3, 7, 1, 5, 10, 4, 15, 2]\n",
    "}\n",
    "\n",
    "df = pd.DataFrame(data)\n",
    "print(df)"
   ]
  },
  {
   "cell_type": "raw",
   "id": "54ada49c-9d4b-4507-89c8-7472ae2a522f",
   "metadata": {},
   "source": [
    "Bài 1: Lọc nhân viên có kinh nghiệm từ 3-7 năm, làm ở phòng IT hoặc Finance, và lương trên 15 triệu\n",
    "Yêu cầu: Lọc các hàng thỏa mãn:\n",
    "Kinh nghiệm (Experience) từ 3 đến 7 năm (bao gồm cả 3 và 7).\n",
    "Phòng ban (Department) là 'IT' hoặc 'Finance'.\n",
    "Lương (Salary) lớn hơn 15,000,000."
   ]
  },
  {
   "cell_type": "code",
   "execution_count": 32,
   "id": "df180bda-575d-4e36-9855-f0174ca9e476",
   "metadata": {},
   "outputs": [
    {
     "name": "stdout",
     "output_type": "stream",
     "text": [
      "   Name  Age       City    Salary Department  Experience\n",
      "3  Dung   28  Hải Phòng  18000000         IT           5\n"
     ]
    }
   ],
   "source": [
    "filtered_df=df[(df['Experience']>=3) & (df['Experience']<=7)\n",
    "            &(df['Department'].isin(['IT','Finance'])) &\n",
    "              (df['Salary']>15000000)]\n",
    "print(filtered_df)\n"
   ]
  },
  {
   "cell_type": "code",
   "execution_count": 33,
   "id": "67c0077e-b3cd-4182-87f2-b1dc16f033c3",
   "metadata": {},
   "outputs": [],
   "source": [
    "#df['column'].isin([value1, value2, ...])"
   ]
  },
  {
   "cell_type": "code",
   "execution_count": 34,
   "id": "8b07e0c8-a0d7-4780-b58e-4ef11c67fbaf",
   "metadata": {},
   "outputs": [],
   "source": [
    "#Bài 2: Lọc nhân viên có tên chứa chữ 'n' (không phân biệt hoa thường) và sống ở thành phố có từ 'Nội'"
   ]
  },
  {
   "cell_type": "code",
   "execution_count": 35,
   "id": "13a54bbb-4fde-45a9-9194-322fc6a9f7a9",
   "metadata": {},
   "outputs": [
    {
     "name": "stdout",
     "output_type": "stream",
     "text": [
      "  Name  Age    City    Salary Department  Experience\n",
      "0   An   25  Hà Nội  15000000         IT           3\n",
      "5  Lan   27  Hà Nội  17000000         HR           4\n"
     ]
    }
   ],
   "source": [
    "filtered_df=df[df['Name'].str.contains('n',case=False)& df['City'].str.contains('Nội')]\n",
    "print(filtered_df)\n",
    "#case-false khong phan biet chu hoa, chu thuong, nguoc lai case=true#"
   ]
  },
  {
   "cell_type": "raw",
   "id": "fbbe00c4-2084-48db-ac01-7c6b5f4dac43",
   "metadata": {},
   "source": [
    "Bài 3: Lọc nhân viên có lương cao nhất trong mỗi phòng ban\n",
    "Yêu cầu: Lọc các hàng có Salary cao nhất trong từng Department."
   ]
  },
  {
   "cell_type": "code",
   "execution_count": 36,
   "id": "7cbf25e1-ae14-4514-9be9-8ad936b679c0",
   "metadata": {},
   "outputs": [
    {
     "name": "stdout",
     "output_type": "stream",
     "text": [
      "  Name  Age     City    Salary Department  Experience\n",
      "4  Hòa   35  Cần Thơ  25000000    Finance          10\n"
     ]
    }
   ],
   "source": [
    "filtered_df=df[df['Salary']==df['Salary'].max()]\n",
    "print(filtered_df)\n",
    "#Kết quả sẽ là tất cả các dòng có lương cao nhất (có thể nhiều hơn 1 dòng nếu trùng điểm)."
   ]
  },
  {
   "cell_type": "code",
   "execution_count": 37,
   "id": "8a7dc12d-cebf-4b3b-a504-53994afa2064",
   "metadata": {},
   "outputs": [],
   "source": [
    "#c2:  Dùng .nlargest()\n",
    "# Lấy 1 dòng có giá trị lớn nhất trong cột 'Điểm'"
   ]
  },
  {
   "cell_type": "code",
   "execution_count": 38,
   "id": "05cba5e0-604e-454e-8999-fde54099aeeb",
   "metadata": {},
   "outputs": [
    {
     "name": "stdout",
     "output_type": "stream",
     "text": [
      "  Name  Age     City    Salary Department  Experience\n",
      "4  Hòa   35  Cần Thơ  25000000    Finance          10\n"
     ]
    }
   ],
   "source": [
    "top_row=df.nlargest(1,'Salary')\n",
    "print(top_row)"
   ]
  },
  {
   "cell_type": "raw",
   "id": "1bece055-460c-4683-aa84-dfc768667513",
   "metadata": {},
   "source": [
    "CAO NHẤT/THẤP NHẤT THEO TỪNG GROUP"
   ]
  },
  {
   "cell_type": "code",
   "execution_count": 39,
   "id": "76702228-8257-4170-b97f-71a9831d8af8",
   "metadata": {},
   "outputs": [],
   "source": [
    "#Tìm dòng có giá trị lớn nhất trong cột (Salary) theo từng nhóm (Department)"
   ]
  },
  {
   "cell_type": "raw",
   "id": "13413133-2efe-4239-899a-dc563b291aee",
   "metadata": {},
   "source": [
    "df.loc[df.groupby('TênNhóm')['TênCột'].idxmax()]\n",
    "\n",
    "groupby('TênNhóm'): nhóm dữ liệu theo cột nào đó (ví dụ: phòng ban).\n",
    "\n",
    "['TênCột'].idxmax(): tìm chỉ số (index) của dòng có giá trị lớn nhất trong cột đó (mỗi nhóm 1 chỉ số).\n",
    "\n",
    "df.loc[...]: dùng chỉ số để lấy toàn bộ dòng tương ứng."
   ]
  },
  {
   "cell_type": "code",
   "execution_count": 40,
   "id": "e4ee3bef-e025-4dba-83fc-d2094496d434",
   "metadata": {},
   "outputs": [
    {
     "name": "stdout",
     "output_type": "stream",
     "text": [
      "   Name  Age     City    Salary Department  Experience\n",
      "4   Hòa   35  Cần Thơ  25000000    Finance          10\n",
      "1  Bình   30   TP.HCM  20000000         HR           7\n",
      "6  Minh   40   TP.HCM  22000000         IT          15\n",
      "7  Ngọc   23  Đà Nẵng  14000000  Marketing           2\n"
     ]
    }
   ],
   "source": [
    "filtered_df=df.loc[df.groupby('Department')['Salary'].idxmax()]\n",
    "print(filtered_df)"
   ]
  },
  {
   "cell_type": "raw",
   "id": "351e1052-749e-4561-87fa-a1d58ae3898e",
   "metadata": {},
   "source": [
    "vd:Tìm sản phẩm bán chạy nhất theo từng khu vực"
   ]
  },
  {
   "cell_type": "code",
   "execution_count": 41,
   "id": "f25c60a2-0223-406a-a3fc-29496f1a1bd6",
   "metadata": {},
   "outputs": [],
   "source": [
    "import pandas as pd\n",
    "\n",
    "# Tạo DataFrame\n",
    "data = {\n",
    "    'Region': ['North', 'North', 'South', 'South', 'East', 'East'],\n",
    "    'Product': ['A', 'B', 'A', 'B', 'A', 'B'],\n",
    "    'Sales': [120, 200, 150, 140, 100, 180]\n",
    "}\n",
    "\n",
    "df = pd.DataFrame(data)"
   ]
  },
  {
   "cell_type": "code",
   "execution_count": 42,
   "id": "4c96bd6b-5910-4243-bffa-5dced7152edd",
   "metadata": {},
   "outputs": [],
   "source": [
    "#Tìm sản phẩm có doanh số cao nhất trong từng khu vực"
   ]
  },
  {
   "cell_type": "code",
   "execution_count": 43,
   "id": "299657ca-a571-44d5-97c0-66096b870f26",
   "metadata": {},
   "outputs": [
    {
     "name": "stdout",
     "output_type": "stream",
     "text": [
      "  Region Product  Sales\n",
      "5   East       B    180\n",
      "1  North       B    200\n",
      "2  South       A    150\n"
     ]
    }
   ],
   "source": [
    "idx=df.groupby('Region')['Sales'].idxmax()\n",
    "result=df.loc[idx]\n",
    "print(result)"
   ]
  },
  {
   "cell_type": "code",
   "execution_count": 44,
   "id": "09126d5c-e80e-4019-a793-a9a54bafd0c7",
   "metadata": {},
   "outputs": [],
   "source": [
    "# Tìm học sinh có điểm toán cao nhất theo lớp"
   ]
  },
  {
   "cell_type": "code",
   "execution_count": 45,
   "id": "38cd5705-598f-45d8-953b-366b9141e711",
   "metadata": {},
   "outputs": [],
   "source": [
    "data = {\n",
    "    'Class': ['10A', '10A', '10B', '10B', '10C', '10C'],\n",
    "    'Student': ['Lan', 'Minh', 'Huy', 'Tú', 'Mai', 'Long'],\n",
    "    'Math': [8.0, 9.5, 9.0, 7.5, 8.5, 9.0]\n",
    "}\n",
    "\n",
    "df = pd.DataFrame(data)\n",
    "\n"
   ]
  },
  {
   "cell_type": "code",
   "execution_count": 46,
   "id": "31236f6e-01dd-4b89-9d46-72886fe793af",
   "metadata": {},
   "outputs": [
    {
     "name": "stdout",
     "output_type": "stream",
     "text": [
      "  Class Student  Math\n",
      "1   10A    Minh   9.5\n",
      "2   10B     Huy   9.0\n",
      "5   10C    Long   9.0\n"
     ]
    }
   ],
   "source": [
    "df_filtered=df.loc[df.groupby('Class')['Math'].idxmax()]\n",
    "print(df_filtered)"
   ]
  },
  {
   "cell_type": "code",
   "execution_count": 47,
   "id": "7fc43a7d-69fc-4b2e-a2ae-f4d81d6c909f",
   "metadata": {},
   "outputs": [],
   "source": [
    "#df.loc[] là cách để truy cập hoặc lọc dữ liệu theo label(tên hàng hoặc điều kiện) trong pandas"
   ]
  },
  {
   "cell_type": "code",
   "execution_count": 48,
   "id": "9bee7d43-d9ab-4fb5-919d-5c2e1fcafc18",
   "metadata": {},
   "outputs": [
    {
     "name": "stderr",
     "output_type": "stream",
     "text": [
      "C:\\Users\\YOGA\\AppData\\Local\\Temp\\ipykernel_5776\\2000846460.py:5: FutureWarning: 'M' is deprecated and will be removed in a future version, please use 'ME' instead.\n",
      "  'Date': pd.date_range(start='2022-01-01', periods=24, freq='M'),\n"
     ]
    }
   ],
   "source": [
    "import pandas as pd\n",
    "\n",
    "# Tạo DataFrame mẫu\n",
    "data = {\n",
    "    'Date': pd.date_range(start='2022-01-01', periods=24, freq='M'),\n",
    "    'Revenue': [100, 120, 90, 150, 130, 110, 80, 200, 160, 170, 140, 180,   # 2022\n",
    "                90, 100, 95, 180, 190, 175, 160, 155, 200, 210, 195, 180]   # 2023\n",
    "}\n",
    "\n",
    "df = pd.DataFrame(data)\n"
   ]
  },
  {
   "cell_type": "code",
   "execution_count": 49,
   "id": "cc78e758-c8b5-4aa3-8cb6-893e8ca7a9a2",
   "metadata": {},
   "outputs": [],
   "source": [
    "# Thêm cột năm và tháng"
   ]
  },
  {
   "cell_type": "code",
   "execution_count": 50,
   "id": "336d59d7-3f57-4d47-90ff-62b59c89d256",
   "metadata": {},
   "outputs": [],
   "source": [
    "df['Year']=df['Date'].dt.year\n",
    "df['Month']=df['Date'].dt.month"
   ]
  },
  {
   "cell_type": "code",
   "execution_count": 51,
   "id": "5d726026-306f-40a6-bb52-dd7466607379",
   "metadata": {},
   "outputs": [
    {
     "name": "stdout",
     "output_type": "stream",
     "text": [
      "    Year  Month  Revenue\n",
      "7   2022      8      200\n",
      "21  2023     10      210\n"
     ]
    }
   ],
   "source": [
    "#tim thang co doanh thu cao nhat theo tung nam\n",
    "idx=df.groupby('Year')['Revenue'].idxmax()\n",
    "result=df.loc[idx,['Year','Month','Revenue']]\n",
    "\n",
    "print(result)"
   ]
  },
  {
   "cell_type": "raw",
   "id": "666b7967-3db5-40c1-a267-9f46ef138525",
   "metadata": {},
   "source": [
    "Bài 4: Lọc nhân viên có tuổi nằm trong top 3 trẻ nhất và lương trên trung bình\n",
    "Yêu cầu: Lọc các hàng mà:\n",
    "Tuổi (Age) thuộc top 3 trẻ nhất.\n",
    "Lương (Salary) lớn hơn mức lương trung bình của toàn bộ DataFrame."
   ]
  },
  {
   "cell_type": "code",
   "execution_count": 52,
   "id": "ce958e52-343d-4b6a-8aa6-4e290c5f68f2",
   "metadata": {},
   "outputs": [
    {
     "name": "stdout",
     "output_type": "stream",
     "text": [
      "    Name  Age       City    Salary Department  Experience\n",
      "0     An   25     Hà Nội  15000000         IT           3\n",
      "1   Bình   30     TP.HCM  20000000         HR           7\n",
      "2  Cường   22    Đà Nẵng  12000000  Marketing           1\n",
      "3   Dung   28  Hải Phòng  18000000         IT           5\n",
      "4    Hòa   35    Cần Thơ  25000000    Finance          10\n",
      "5    Lan   27     Hà Nội  17000000         HR           4\n",
      "6   Minh   40     TP.HCM  22000000         IT          15\n",
      "7   Ngọc   23    Đà Nẵng  14000000  Marketing           2\n"
     ]
    }
   ],
   "source": [
    "import pandas as pd\n",
    "\n",
    "data = {\n",
    "    'Name': ['An', 'Bình', 'Cường', 'Dung', 'Hòa', 'Lan', 'Minh', 'Ngọc'],\n",
    "    'Age': [25, 30, 22, 28, 35, 27, 40, 23],\n",
    "    'City': ['Hà Nội', 'TP.HCM', 'Đà Nẵng', 'Hải Phòng', 'Cần Thơ', 'Hà Nội', 'TP.HCM', 'Đà Nẵng'],\n",
    "    'Salary': [15000000, 20000000, 12000000, 18000000, 25000000, 17000000, 22000000, 14000000],\n",
    "    'Department': ['IT', 'HR', 'Marketing', 'IT', 'Finance', 'HR', 'IT', 'Marketing'],\n",
    "    'Experience': [3, 7, 1, 5, 10, 4, 15, 2]\n",
    "}\n",
    "\n",
    "df = pd.DataFrame(data)\n",
    "print(df)"
   ]
  },
  {
   "cell_type": "code",
   "execution_count": 53,
   "id": "cf645d1a-2817-408b-b66c-ea339754a0a7",
   "metadata": {},
   "outputs": [
    {
     "name": "stdout",
     "output_type": "stream",
     "text": [
      "    Name  Age     City    Salary Department  Experience\n",
      "0     An   25   Hà Nội  15000000         IT           3\n",
      "2  Cường   22  Đà Nẵng  12000000  Marketing           1\n",
      "7   Ngọc   23  Đà Nẵng  14000000  Marketing           2\n"
     ]
    }
   ],
   "source": [
    "mean_salary = df['Salary'].mean()\n",
    "filtered_df = df[df['Age'].isin(df['Age'].nsmallest(3))]\n",
    "print(filtered_df)"
   ]
  },
  {
   "cell_type": "code",
   "execution_count": 54,
   "id": "35cfc6aa-4601-4b83-8cf9-c59f1d82b410",
   "metadata": {},
   "outputs": [
    {
     "name": "stdout",
     "output_type": "stream",
     "text": [
      "Empty DataFrame\n",
      "Columns: [Name, Age, City, Salary, Department, Experience]\n",
      "Index: []\n"
     ]
    }
   ],
   "source": [
    "mean_salary = df['Salary'].mean()\n",
    "filtered_df = df[df['Age'].isin(df['Age'].nsmallest(3)) & (df['Salary'] > mean_salary)]\n",
    "print(filtered_df)"
   ]
  },
  {
   "cell_type": "code",
   "execution_count": 55,
   "id": "ccc6b329-904d-439f-b093-0dfcdf6991a3",
   "metadata": {},
   "outputs": [],
   "source": [
    "# ví dụ 3: xử lý giá trị thiếu (NaN)"
   ]
  },
  {
   "cell_type": "code",
   "execution_count": 59,
   "id": "2a73a3fa-5d4b-4fbc-9179-63c7c9113bef",
   "metadata": {},
   "outputs": [
    {
     "name": "stdout",
     "output_type": "stream",
     "text": [
      "   Name    City\n",
      "0    An  Hà Nội\n",
      "1  Bình  TP.HCM\n",
      "3   Lan    None\n"
     ]
    }
   ],
   "source": [
    "import pandas as pd\n",
    "data= {\n",
    "    'Name': ['An', 'Bình', None, 'Lan'],\n",
    "    'City':['Hà Nội', 'TP.HCM', 'Đà Nẵng', None]\n",
    "}\n",
    "df=pd.DataFrame(data)\n",
    "filtered_df=df[df['Name'].str.contains('n',case=False,na=False)]\n",
    "print(filtered_df)"
   ]
  },
  {
   "cell_type": "code",
   "execution_count": null,
   "id": "980eb084-460f-43c3-a496-8007f7acc9a4",
   "metadata": {},
   "outputs": [],
   "source": []
  },
  {
   "cell_type": "code",
   "execution_count": 61,
   "id": "559ef96e-5f68-4014-a57d-83ad5e707314",
   "metadata": {},
   "outputs": [],
   "source": [
    "#na=False: Gán False cho các giá trị NaN trong cột Name, đảm bảo không gây lỗi.\n",
    "#None (NaN) được gán False, nên bị loại bỏ."
   ]
  },
  {
   "cell_type": "markdown",
   "id": "c77a131f-5bf0-4818-a833-28ffeba521a3",
   "metadata": {},
   "source": [
    ".nsmallest() và n.largest()"
   ]
  },
  {
   "cell_type": "code",
   "execution_count": 62,
   "id": "201d8a30-f59b-4f8b-b296-1fe19e45b95a",
   "metadata": {},
   "outputs": [],
   "source": [
    "#1 hàm .nsmallest()\n",
    "#Hàm .nsmallest() trả về n phần tử nhỏ nhất từ một Series hoặc các hàng có giá trị nhỏ nhất trong một cột của DataFrame."
   ]
  },
  {
   "cell_type": "code",
   "execution_count": 64,
   "id": "433872b0-1500-4894-8dba-5b42af8eaceb",
   "metadata": {},
   "outputs": [],
   "source": [
    "#DataFrame.nsmallest(n, columns, keep='first')\n",
    "#Series.nsmallest(n, keep='first')"
   ]
  },
  {
   "cell_type": "markdown",
   "id": "0a483a29-ddd5-4041-84cb-392fc51e471f",
   "metadata": {},
   "source": [
    "2. Hàm .nlargest()\n",
    "Hàm .nlargest() trả về n phần tử lớn nhất từ một Series hoặc các hàng có giá trị lớn nhất trong một cột của DataFrame. Nó hoạt động tương tự .nsmallest() nhưng theo hướng ngược lại.\n",
    "\n",
    "Series:\n",
    "Series.nlargest(n, keep='first')\n",
    "\n",
    "\n",
    "DataFrame:\n",
    "DataFrame.nlargest(n, columns, keep='first')\n"
   ]
  },
  {
   "cell_type": "code",
   "execution_count": 65,
   "id": "df0e1334-f1a8-4fb4-be68-e2e4efccd40a",
   "metadata": {},
   "outputs": [
    {
     "name": "stdout",
     "output_type": "stream",
     "text": [
      "    Name  Age       City    Salary  Experience\n",
      "0     An   25     Hà Nội  15000000           3\n",
      "1   Bình   30     TP.HCM  20000000           7\n",
      "2  Cường   22    Đà Nẵng  12000000           1\n",
      "3   Dung   28  Hải Phòng  18000000           5\n",
      "4    Hòa   35    Cần Thơ  25000000          10\n",
      "5    Lan   27     Hà Nội  17000000           4\n",
      "6   Minh   40     TP.HCM  22000000          15\n",
      "7   Ngọc   23    Đà Nẵng  14000000           2\n"
     ]
    }
   ],
   "source": [
    "import pandas as pd\n",
    "\n",
    "data = {\n",
    "    'Name': ['An', 'Bình', 'Cường', 'Dung', 'Hòa', 'Lan', 'Minh', 'Ngọc'],\n",
    "    'Age': [25, 30, 22, 28, 35, 27, 40, 23],\n",
    "    'City': ['Hà Nội', 'TP.HCM', 'Đà Nẵng', 'Hải Phòng', 'Cần Thơ', 'Hà Nội', 'TP.HCM', 'Đà Nẵng'],\n",
    "    'Salary': [15000000, 20000000, 12000000, 18000000, 25000000, 17000000, 22000000, 14000000],\n",
    "    'Experience': [3, 7, 1, 5, 10, 4, 15, 2]\n",
    "}\n",
    "\n",
    "df = pd.DataFrame(data)\n",
    "print(df)"
   ]
  },
  {
   "cell_type": "code",
   "execution_count": 67,
   "id": "77cf068f-3984-4c62-907c-a1390b4cb5d2",
   "metadata": {},
   "outputs": [],
   "source": [
    "#Sử dụng .nsmallest() trên Series\n",
    "#Yêu cầu: Lấy 3 giá trị nhỏ nhất trong cột 'Age'."
   ]
  },
  {
   "cell_type": "code",
   "execution_count": 68,
   "id": "1aa40ddb-beef-49bc-b21a-3f389c823b49",
   "metadata": {},
   "outputs": [
    {
     "name": "stdout",
     "output_type": "stream",
     "text": [
      "2    22\n",
      "7    23\n",
      "0    25\n",
      "Name: Age, dtype: int64\n"
     ]
    }
   ],
   "source": [
    "youngest_ages= df['Age'].nsmallest(3)\n",
    "print(youngest_ages)"
   ]
  },
  {
   "cell_type": "markdown",
   "id": "8ff5ac0b-8d9b-4f8c-a508-b545520ae298",
   "metadata": {},
   "source": [
    "Phương pháp 2: Sử dụng .loc hoặc .isin() với kết quả của nsmallest()\n",
    "Nếu bạn đã có youngest_ages = df['Age'].nsmallest(3), bạn có thể dùng chỉ số (index) của youngest_ages để lọc DataFrame:"
   ]
  },
  {
   "cell_type": "code",
   "execution_count": 69,
   "id": "7c4ac512-c778-4a69-96cd-9abf1c134bd3",
   "metadata": {},
   "outputs": [
    {
     "name": "stdout",
     "output_type": "stream",
     "text": [
      "    Name  Age     City    Salary  Experience\n",
      "2  Cường   22  Đà Nẵng  12000000           1\n",
      "7   Ngọc   23  Đà Nẵng  14000000           2\n",
      "0     An   25   Hà Nội  15000000           3\n"
     ]
    }
   ],
   "source": [
    "youngest_age=df['Age'].nsmallest(3)\n",
    "youngest_df=df.loc[youngest_ages.index]\n",
    "print(youngest_df)"
   ]
  },
  {
   "cell_type": "code",
   "execution_count": 73,
   "id": "ad58ed23-d552-4825-a4f1-ae18b2285a49",
   "metadata": {},
   "outputs": [
    {
     "name": "stdout",
     "output_type": "stream",
     "text": [
      "    Name  Age     City    Salary  Experience\n",
      "0     An   25   Hà Nội  15000000           3\n",
      "2  Cường   22  Đà Nẵng  12000000           1\n",
      "7   Ngọc   23  Đà Nẵng  14000000           2\n"
     ]
    }
   ],
   "source": [
    "youngest_age=df['Age'].nsmallest(3)\n",
    "youngest_df=df[df['Age'].isin(youngest_age)]\n",
    "print(youngest_df)"
   ]
  },
  {
   "cell_type": "code",
   "execution_count": 74,
   "id": "476c283e-ffec-4310-8cbd-a59171eae0e1",
   "metadata": {},
   "outputs": [
    {
     "name": "stdout",
     "output_type": "stream",
     "text": [
      "   Name  Age     City    Salary  Experience\n",
      "4   Hòa   35  Cần Thơ  25000000          10\n",
      "6  Minh   40   TP.HCM  22000000          15\n",
      "1  Bình   30   TP.HCM  20000000           7\n"
     ]
    }
   ],
   "source": [
    "print(df.nlargest(3, 'Salary'))"
   ]
  },
  {
   "cell_type": "markdown",
   "id": "903679e7-75e0-468a-bc33-d7931a31dd1b",
   "metadata": {},
   "source": [
    "Get all columns for the 3 employees with the least experience, only for those in the IT department."
   ]
  },
  {
   "cell_type": "code",
   "execution_count": 81,
   "id": "3bfd060b-a96c-49f2-a4d5-f59f5eb107c9",
   "metadata": {},
   "outputs": [
    {
     "name": "stdout",
     "output_type": "stream",
     "text": [
      "    Name  Age     City    Salary  Experience\n",
      "0     An   25   Hà Nội  15000000           3\n",
      "2  Cường   22  Đà Nẵng  12000000           1\n",
      "7   Ngọc   23  Đà Nẵng  14000000           2\n"
     ]
    }
   ],
   "source": [
    "least_esp=df['Experience'].nsmallest(3)\n",
    "filtered_df=df[df['Experience'].isin(least_esp)]\n",
    "print(filtered_df)\n"
   ]
  },
  {
   "cell_type": "code",
   "execution_count": 82,
   "id": "4a0cc9ad-260f-472e-b89a-bf54325b35b0",
   "metadata": {},
   "outputs": [],
   "source": [
    "#Get all columns for the 3 youngest employees, sorted by salary in descending order"
   ]
  },
  {
   "cell_type": "code",
   "execution_count": 83,
   "id": "b444b667-175a-4506-b173-2272d36a6c35",
   "metadata": {},
   "outputs": [
    {
     "name": "stdout",
     "output_type": "stream",
     "text": [
      "    Name  Age     City    Salary  Experience\n",
      "0     An   25   Hà Nội  15000000           3\n",
      "2  Cường   22  Đà Nẵng  12000000           1\n",
      "7   Ngọc   23  Đà Nẵng  14000000           2\n"
     ]
    }
   ],
   "source": [
    "yongest_df=df.nsmallest(3,'Age').sort_values('Salary',ascending=False)\n",
    "print(youngest_df)"
   ]
  },
  {
   "cell_type": "code",
   "execution_count": null,
   "id": "cf3f44f1-923d-401e-b39d-a2c9de459e92",
   "metadata": {},
   "outputs": [],
   "source": []
  }
 ],
 "metadata": {
  "kernelspec": {
   "display_name": "Python 3 (ipykernel)",
   "language": "python",
   "name": "python3"
  },
  "language_info": {
   "codemirror_mode": {
    "name": "ipython",
    "version": 3
   },
   "file_extension": ".py",
   "mimetype": "text/x-python",
   "name": "python",
   "nbconvert_exporter": "python",
   "pygments_lexer": "ipython3",
   "version": "3.12.3"
  }
 },
 "nbformat": 4,
 "nbformat_minor": 5
}
