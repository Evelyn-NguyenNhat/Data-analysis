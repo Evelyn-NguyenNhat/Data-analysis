{
 "cells": [
  {
   "cell_type": "raw",
   "id": "2c6be972-1f6e-49d7-a4da-c30c6306dc82",
   "metadata": {},
   "source": [
    "WORKING WITH SERIES"
   ]
  },
  {
   "cell_type": "code",
   "execution_count": 1,
   "id": "4c77a7d3-695c-44dd-ba7a-21ecc59f2ba9",
   "metadata": {},
   "outputs": [],
   "source": [
    "import pandas as pd"
   ]
  },
  {
   "cell_type": "code",
   "execution_count": 2,
   "id": "4d96b8b8-7e12-499f-8adc-ac13d40e5eba",
   "metadata": {},
   "outputs": [
    {
     "name": "stdout",
     "output_type": "stream",
     "text": [
      "0    10\n",
      "1    20\n",
      "2    30\n",
      "3    40\n",
      "dtype: int64\n"
     ]
    }
   ],
   "source": [
    "s=pd.Series([10,20,30,40])\n",
    "print(s)"
   ]
  },
  {
   "cell_type": "code",
   "execution_count": 3,
   "id": "863dba6e-bef2-4cf0-a356-a67389f39c8f",
   "metadata": {},
   "outputs": [
    {
     "name": "stdout",
     "output_type": "stream",
     "text": [
      "a    10\n",
      "b    20\n",
      "c    30\n",
      "dtype: int64\n"
     ]
    }
   ],
   "source": [
    "s=pd.Series([10,20,30],index=['a','b','c'])\n",
    "print(s)"
   ]
  },
  {
   "cell_type": "code",
   "execution_count": 4,
   "id": "d41e4147-735b-4421-ba9b-489db339d66d",
   "metadata": {},
   "outputs": [],
   "source": [
    "#Quan ly diem sinh vien#"
   ]
  },
  {
   "cell_type": "code",
   "execution_count": 5,
   "id": "a882fc95-965a-453e-a995-e5448766a76c",
   "metadata": {},
   "outputs": [],
   "source": [
    "diem=pd.Series([8.5,7.0,9.0], index=['Toán','Lý','Hóa'])"
   ]
  },
  {
   "cell_type": "code",
   "execution_count": 7,
   "id": "caeb2608-6a00-40b0-965f-01edcc287441",
   "metadata": {},
   "outputs": [
    {
     "name": "stdout",
     "output_type": "stream",
     "text": [
      "7.0\n"
     ]
    }
   ],
   "source": [
    "print(diem['Lý'])"
   ]
  },
  {
   "cell_type": "code",
   "execution_count": 8,
   "id": "b7448434-4048-4f01-a515-426a7c51d347",
   "metadata": {},
   "outputs": [],
   "source": [
    "# Theo doi doanh thu theo san pham"
   ]
  },
  {
   "cell_type": "code",
   "execution_count": 9,
   "id": "d974fc4a-a5d6-4e20-a8ea-074f9190bd20",
   "metadata": {},
   "outputs": [],
   "source": [
    "doanh_thu=pd.Series([5000000,3000000,800000], index=['Bánh','Sữa','Nước ngot'])"
   ]
  },
  {
   "cell_type": "code",
   "execution_count": 10,
   "id": "3006695d-0589-4b3b-9b62-81316dca69a7",
   "metadata": {},
   "outputs": [
    {
     "name": "stdout",
     "output_type": "stream",
     "text": [
      "3000000\n"
     ]
    }
   ],
   "source": [
    "print(doanh_thu['Sữa'])"
   ]
  },
  {
   "cell_type": "raw",
   "id": "0f2e35f3-0d93-4858-a594-e33c1bd66a29",
   "metadata": {},
   "source": [
    "#Lợi ích trong thực tế:\n",
    "Không cần nhớ vị trí của dữ liệu\n",
    "\n",
    "Tăng tính rõ ràng và dễ bảo trì code\n",
    "\n",
    "Dễ dàng kết hợp với hệ thống tên, mã số như mã sản phẩm, mã học sinh, số bệnh án, v.v.\n",
    "\n",
    "Khi dữ liệu lớn hàng nghìn dòng, việc truy cập bằng tên là điều bắt buộc."
   ]
  },
  {
   "cell_type": "raw",
   "id": "d884e79b-c8b4-43c6-b298-c29ddce46929",
   "metadata": {},
   "source": [
    "TRUY CẬP PHẦN TỬ/ CÁC THAO TÁC CƠ BẢN"
   ]
  },
  {
   "cell_type": "raw",
   "id": "b2acdfd7-6085-4799-9316-09279c5711f3",
   "metadata": {},
   "source": [
    "Series  là một mảng một chiều có thể chứa bất kỳ kiểu dữ liệu nào (số, chuỗi, kiểu thời gian, v.v.). Nó giống như một mảng NumPy nhưng có nhãn (index)."
   ]
  },
  {
   "cell_type": "code",
   "execution_count": 12,
   "id": "40b4f819-4461-4964-b1fb-0481f0b7f695",
   "metadata": {},
   "outputs": [
    {
     "name": "stdout",
     "output_type": "stream",
     "text": [
      "Sữa     105.0\n",
      "Bánh    210.0\n",
      "Nước    315.0\n",
      "dtype: float64\n"
     ]
    }
   ],
   "source": [
    "gia=pd.Series([100,200,300], index=['Sữa', 'Bánh','Nước'])\n",
    "gia_moi=gia* 1.05\n",
    "print(gia_moi)"
   ]
  },
  {
   "cell_type": "code",
   "execution_count": 13,
   "id": "685d81d0-a0ab-4cd4-b98e-9731f80e0b86",
   "metadata": {},
   "outputs": [],
   "source": [
    "#Tinh luong thuc nhan sau khi cong tien thuong"
   ]
  },
  {
   "cell_type": "code",
   "execution_count": 14,
   "id": "289af2bf-c5e5-45a1-bb76-f0ac409e5d1d",
   "metadata": {},
   "outputs": [],
   "source": [
    "luong= pd.Series([10000,12000,15000],index=['Anh A', 'Chi B','Anh C'])\n",
    "thuong=100000\n",
    "thuc_nhan=luong+thuong"
   ]
  },
  {
   "cell_type": "code",
   "execution_count": 15,
   "id": "142a582b-6a58-41da-b0f5-6345bbcef4c8",
   "metadata": {},
   "outputs": [
    {
     "name": "stdout",
     "output_type": "stream",
     "text": [
      "Anh A    110000\n",
      "Chi B    112000\n",
      "Anh C    115000\n",
      "dtype: int64\n"
     ]
    }
   ],
   "source": [
    "print(thuc_nhan)"
   ]
  },
  {
   "cell_type": "code",
   "execution_count": 16,
   "id": "a43f77b4-4128-4181-97ca-d47c0b8fc57b",
   "metadata": {},
   "outputs": [],
   "source": [
    "#Tinh Diem trung binh cua hoc sinh"
   ]
  },
  {
   "cell_type": "code",
   "execution_count": 17,
   "id": "19216f5d-4415-4604-977c-6f5ec929c8d3",
   "metadata": {},
   "outputs": [
    {
     "name": "stdout",
     "output_type": "stream",
     "text": [
      "8.166666666666666\n"
     ]
    }
   ],
   "source": [
    "diem=pd.Series([8.5, 7.0, 9.0], index=['Toán','Lý','Hóa'])\n",
    "print(diem.mean())"
   ]
  },
  {
   "cell_type": "code",
   "execution_count": 18,
   "id": "c083d62d-3222-4a87-987d-ec9f0bffb80e",
   "metadata": {},
   "outputs": [],
   "source": [
    "# Tim doanh thu cao nhat va thap nhat"
   ]
  },
  {
   "cell_type": "code",
   "execution_count": 19,
   "id": "a2a7b2fd-09f2-426f-bb62-a3de98614d2e",
   "metadata": {},
   "outputs": [
    {
     "name": "stdout",
     "output_type": "stream",
     "text": [
      "5000000\n",
      "300000\n"
     ]
    }
   ],
   "source": [
    "doanh_thu=pd.Series([5000000,800000,300000], index=['Sữa','Nước ngọt','Bánh'])\n",
    "print(doanh_thu.max())\n",
    "print(doanh_thu.min())"
   ]
  },
  {
   "cell_type": "code",
   "execution_count": 20,
   "id": "8139f35c-8091-4ed0-b485-7af80c361d93",
   "metadata": {},
   "outputs": [],
   "source": [
    "# Thêm nhiệt độ bù sai số cho cảm biến"
   ]
  },
  {
   "cell_type": "code",
   "execution_count": 21,
   "id": "5746b4f4-7046-4aad-9251-5215b7b2e35e",
   "metadata": {},
   "outputs": [],
   "source": [
    "nhiet_do=pd.Series([36.2,37.5,38.0])\n",
    "nhiet_do_chuan= nhiet_do + 0.3"
   ]
  },
  {
   "cell_type": "code",
   "execution_count": 22,
   "id": "52c3208e-a67d-4d41-91a7-c3891bd5200c",
   "metadata": {},
   "outputs": [
    {
     "name": "stdout",
     "output_type": "stream",
     "text": [
      "0    36.5\n",
      "1    37.8\n",
      "2    38.3\n",
      "dtype: float64\n"
     ]
    }
   ],
   "source": [
    "print(nhiet_do_chuan)"
   ]
  },
  {
   "cell_type": "raw",
   "id": "6d5041f8-0788-40cd-8897-a8f17590aaba",
   "metadata": {},
   "source": [
    "CÚ PHÁP CƠ BẢN VỀ LỌC"
   ]
  },
  {
   "cell_type": "code",
   "execution_count": 24,
   "id": "b7b37ef0-adad-4b58-b379-0569a1821613",
   "metadata": {},
   "outputs": [
    {
     "name": "stdout",
     "output_type": "stream",
     "text": [
      "c    30\n",
      "d    40\n",
      "dtype: int64\n"
     ]
    }
   ],
   "source": [
    "import pandas as pd\n",
    "s=pd.Series([10,20,30,40], index=['a','b','c','d'])\n",
    "\n",
    "#Loc cac gia tri lon hon 20\n",
    "print(s[s>20])"
   ]
  },
  {
   "cell_type": "code",
   "execution_count": 25,
   "id": "eb671a50-83c1-4461-bece-651317d68d1e",
   "metadata": {},
   "outputs": [
    {
     "name": "stdout",
     "output_type": "stream",
     "text": [
      "Sữa           8000000\n",
      "Nước ngọt    10000000\n",
      "dtype: int64\n"
     ]
    }
   ],
   "source": [
    "doanh_thu = pd.Series([5_000_000, 8_000_000, 3_000_000, 10_000_000],\n",
    "                      index=['Bánh', 'Sữa', 'Trà', 'Nước ngọt'])\n",
    "\n",
    "# Lọc các sản phẩm có doanh thu > 5 triệu\n",
    "ban_chay = doanh_thu[doanh_thu > 5_000_000]\n",
    "print(ban_chay)\n"
   ]
  },
  {
   "cell_type": "raw",
   "id": "e3c36329-c21a-473a-8bec-82360cb55c95",
   "metadata": {},
   "source": [
    "Lọc học sinh thi trượt (dưới 5) hoặc học sinh xuất sắc (trên 8.5)"
   ]
  },
  {
   "cell_type": "code",
   "execution_count": 27,
   "id": "48c1e44d-a58b-492b-8d24-129d130755b3",
   "metadata": {},
   "outputs": [],
   "source": [
    "import pandas as pd\n",
    "\n",
    "diem = pd.Series([4.5, 6.0, 8.5, 9.0, 7.2], index=['A', 'B', 'C', 'D', 'E'])\n"
   ]
  },
  {
   "cell_type": "code",
   "execution_count": 28,
   "id": "28f4deb7-933c-4fa0-9731-a37021baf3ca",
   "metadata": {},
   "outputs": [
    {
     "name": "stdout",
     "output_type": "stream",
     "text": [
      "E    7.2\n",
      "dtype: float64\n"
     ]
    }
   ],
   "source": [
    "loai_kha = diem[(diem >= 6.5) & (diem < 8.5)]\n",
    "print(loai_kha)\n"
   ]
  },
  {
   "cell_type": "code",
   "execution_count": 29,
   "id": "1fa6583f-91f9-4a51-b25a-e06b3ce619e1",
   "metadata": {},
   "outputs": [
    {
     "name": "stdout",
     "output_type": "stream",
     "text": [
      "A    4.5\n",
      "D    9.0\n",
      "dtype: float64\n"
     ]
    }
   ],
   "source": [
    "dat_dac_biet=diem[(diem<5)|(diem>8.5)]\n",
    "print(dat_dac_biet)"
   ]
  },
  {
   "cell_type": "raw",
   "id": "d7957e64-d268-4920-a023-bc36fb303612",
   "metadata": {},
   "source": [
    "Ghi nhớ:\n",
    "& là và (and)\n",
    "\n",
    "| là hoặc (or)\n",
    "\n",
    "Các điều kiện phải đặt trong dấu ngoặc tròn: (điều_kiện_1) & (điều_kiện_2)\n",
    "\n"
   ]
  },
  {
   "cell_type": "code",
   "execution_count": 30,
   "id": "1bdb397a-2b50-4a60-83f1-7c449e2e5bb9",
   "metadata": {},
   "outputs": [],
   "source": [
    "# Tạo dictionary từ series"
   ]
  },
  {
   "cell_type": "code",
   "execution_count": 31,
   "id": "af5c0b5d-866a-4106-8380-d8cf5039e094",
   "metadata": {},
   "outputs": [],
   "source": [
    "#b1: tạo dictionary\n",
    "# đây là cấu trúc dữ liệu dạng key-value"
   ]
  },
  {
   "cell_type": "code",
   "execution_count": 32,
   "id": "a6dd5272-b446-4c74-a920-805ff668075d",
   "metadata": {},
   "outputs": [],
   "source": [
    "data={'A':90, 'B':80, 'C':85} # tạo dictionary: Key là 'A', 'B','C'; Value là điểm"
   ]
  },
  {
   "cell_type": "raw",
   "id": "377a1b14-1f35-429b-a461-d6abb22edd1f",
   "metadata": {},
   "source": [
    "#Bước 2: Tạo series từ dictionary\n",
    "s=pd.Series(data)\n",
    "#Khi truyen data vao \n",
    "pd.Series(), Pandas sẽ:\n",
    "\n",
    "Dùng key ('A', 'B', 'C') làm index\n",
    "\n",
    "Dùng value (90, 80, 85) làm giá trị"
   ]
  },
  {
   "cell_type": "code",
   "execution_count": 34,
   "id": "b15106ab-5ced-40eb-a64c-7ac335ddc0d4",
   "metadata": {},
   "outputs": [],
   "source": [
    "s=pd.Series(data)"
   ]
  },
  {
   "cell_type": "code",
   "execution_count": 35,
   "id": "59f694d2-ef12-4020-8b36-08a6f2ff1ef7",
   "metadata": {},
   "outputs": [
    {
     "name": "stdout",
     "output_type": "stream",
     "text": [
      "A    90\n",
      "B    80\n",
      "C    85\n",
      "dtype: int64\n"
     ]
    }
   ],
   "source": [
    "print(s)"
   ]
  },
  {
   "cell_type": "code",
   "execution_count": 36,
   "id": "c53d12ea-6eb7-4c7e-a83e-6a0e0a6574f8",
   "metadata": {},
   "outputs": [
    {
     "name": "stdout",
     "output_type": "stream",
     "text": [
      "85.0\n",
      "90\n",
      "A    90\n",
      "C    85\n",
      "dtype: int64\n"
     ]
    }
   ],
   "source": [
    "print(s.mean())   # Tính điểm trung bình\n",
    "print(s.max())    # Tìm điểm cao nhất\n",
    "print(s[s >= 85]) # Lọc học sinh giỏi (điểm >= 85)\n"
   ]
  },
  {
   "cell_type": "code",
   "execution_count": 37,
   "id": "3e64a287-05ac-46b4-9b5f-ac66f9b4de08",
   "metadata": {},
   "outputs": [],
   "source": [
    "# xóa phần tử"
   ]
  },
  {
   "cell_type": "code",
   "execution_count": 38,
   "id": "3445cd75-5c7c-4f50-83aa-6b92e34b685f",
   "metadata": {},
   "outputs": [
    {
     "name": "stdout",
     "output_type": "stream",
     "text": [
      "B    80\n",
      "C    85\n",
      "dtype: int64\n"
     ]
    }
   ],
   "source": [
    "s=s.drop('A')\n",
    "print(s)"
   ]
  },
  {
   "cell_type": "code",
   "execution_count": 39,
   "id": "3ae5c940-0410-4e98-a866-7efc9560af0f",
   "metadata": {},
   "outputs": [
    {
     "name": "stdout",
     "output_type": "stream",
     "text": [
      "int64\n"
     ]
    }
   ],
   "source": [
    "# Kieu du lieu cua gia tri\n",
    "print(s.dtype)"
   ]
  },
  {
   "cell_type": "code",
   "execution_count": 41,
   "id": "fb1bc762-7abf-4951-a461-fcdbb2a53939",
   "metadata": {},
   "outputs": [
    {
     "name": "stdout",
     "output_type": "stream",
     "text": [
      "(2,)\n"
     ]
    }
   ],
   "source": [
    "print(s.shape)"
   ]
  },
  {
   "cell_type": "code",
   "execution_count": 42,
   "id": "d1cb5afa-0960-4c3c-9a1c-30143a0888bf",
   "metadata": {},
   "outputs": [
    {
     "name": "stdout",
     "output_type": "stream",
     "text": [
      "B    80\n",
      "C    85\n",
      "Name: Điểm học sinh, dtype: int64\n"
     ]
    }
   ],
   "source": [
    "s.name=\"Điểm học sinh\"\n",
    "print(s)"
   ]
  },
  {
   "cell_type": "raw",
   "id": "316203b4-7691-4493-9b9e-e259f5f4a30f",
   "metadata": {},
   "source": [
    "Kiem tra gia tri thieu "
   ]
  },
  {
   "cell_type": "code",
   "execution_count": 43,
   "id": "7bea549e-3cd9-4d3e-be25-8350e9f9c040",
   "metadata": {},
   "outputs": [
    {
     "name": "stdout",
     "output_type": "stream",
     "text": [
      "B    False\n",
      "C    False\n",
      "Name: Điểm học sinh, dtype: bool\n",
      "Series([], Name: Điểm học sinh, dtype: int64)\n"
     ]
    }
   ],
   "source": [
    "print(s.isnull()) # trả về True/False tương ứng với từng dòng\n",
    "print(s[s.isnull()]) #loc ra cac gia tri bi thieu"
   ]
  },
  {
   "cell_type": "raw",
   "id": "770898a3-f4b4-4bca-ab73-52767f1ad671",
   "metadata": {},
   "source": [
    "Kiem tra gia tri duy nhat"
   ]
  },
  {
   "cell_type": "code",
   "execution_count": 44,
   "id": "2dcbe786-aa10-4995-88cb-7e3292e01dd0",
   "metadata": {},
   "outputs": [
    {
     "name": "stdout",
     "output_type": "stream",
     "text": [
      "[80 85]\n",
      "2\n"
     ]
    }
   ],
   "source": [
    "print(s.unique()) # mang gia tri khong trung lap\n",
    "print(s.nunique()) # dem so luong gia tri duy nhat"
   ]
  },
  {
   "cell_type": "code",
   "execution_count": 45,
   "id": "e98bc8c8-ca50-4b66-8e3f-853713d40c29",
   "metadata": {},
   "outputs": [
    {
     "name": "stdout",
     "output_type": "stream",
     "text": [
      "B    80\n",
      "C    85\n",
      "Name: Điểm học sinh, dtype: int64\n",
      "B    80\n",
      "C    85\n",
      "Name: Điểm học sinh, dtype: int64\n"
     ]
    }
   ],
   "source": [
    "#Thay the NaN bằng 0\n",
    "print(s.fillna(0)) \n",
    "print(s.dropna())"
   ]
  },
  {
   "cell_type": "raw",
   "id": "88c6ad45-1854-434e-8d81-49d32f61189f",
   "metadata": {},
   "source": [
    "THUC HANH VOI DATAFRAME\n",
    "dataframe là một cấu trúc dữ liệu 2 chiều trong Pandas, giống như một bảng trong cơ sở dữ liệu hoặc một bảng tính excel\n",
    "mỗi cột có thể chứa dữ liệu khác nhau, ví dụ như số nguyên, chuỗi, boolean, hoặc ngày tháng"
   ]
  },
  {
   "cell_type": "code",
   "execution_count": null,
   "id": "ae48ada7-90ec-433a-b83a-7e37facf6f4c",
   "metadata": {},
   "outputs": [],
   "source": []
  }
 ],
 "metadata": {
  "kernelspec": {
   "display_name": "Python 3 (ipykernel)",
   "language": "python",
   "name": "python3"
  },
  "language_info": {
   "codemirror_mode": {
    "name": "ipython",
    "version": 3
   },
   "file_extension": ".py",
   "mimetype": "text/x-python",
   "name": "python",
   "nbconvert_exporter": "python",
   "pygments_lexer": "ipython3",
   "version": "3.12.3"
  }
 },
 "nbformat": 4,
 "nbformat_minor": 5
}
