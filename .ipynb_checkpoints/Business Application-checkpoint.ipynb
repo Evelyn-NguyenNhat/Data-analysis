{
 "cells": [
  {
   "cell_type": "code",
   "execution_count": 2,
   "id": "2c612081-f50e-46e6-b8a4-bbd0e220c949",
   "metadata": {},
   "outputs": [
    {
     "name": "stdout",
     "output_type": "stream",
     "text": [
      "   order_id customer_id order_date  order_value    city marketing_source  \\\n",
      "0      1001        C001 2023-01-05       500000   Hanoi         Facebook   \n",
      "1      1002        C002 2023-01-07       200000  Saigon       Google Ads   \n",
      "2      1003        C001 2023-01-20       350000   Hanoi         Facebook   \n",
      "3      1004        C003 2023-01-25            0  Danang          Organic   \n",
      "4      1005        C004 2023-02-02       800000  Saigon           Tiktok   \n",
      "5      1006        C005 2023-02-04            0   Hanoi       Google Ads   \n",
      "6      1007        C001 2023-02-06       400000   Hanoi         Facebook   \n",
      "7      1008        C006 2023-02-10       100000     Hue          Organic   \n",
      "8      1009        C004 2023-02-15            0  Saigon           Tiktok   \n",
      "9      1010        C007 2023-02-20       600000  Saigon         Facebook   \n",
      "\n",
      "  visit_id  is_purchase  \n",
      "0     V001            1  \n",
      "1     V002            1  \n",
      "2     V003            1  \n",
      "3     V004            0  \n",
      "4     V005            1  \n",
      "5     V006            0  \n",
      "6     V007            1  \n",
      "7     V008            1  \n",
      "8     V009            0  \n",
      "9     V010            1  \n"
     ]
    }
   ],
   "source": [
    "import pandas as pd\n",
    "\n",
    "data = {\n",
    "    'order_id': [1001, 1002, 1003, 1004, 1005, 1006, 1007, 1008, 1009, 1010],\n",
    "    'customer_id': ['C001', 'C002', 'C001', 'C003', 'C004', 'C005', 'C001', 'C006', 'C004', 'C007'],\n",
    "    'order_date': ['2023-01-05', '2023-01-07', '2023-01-20', '2023-01-25', '2023-02-02',\n",
    "                   '2023-02-04', '2023-02-06', '2023-02-10', '2023-02-15', '2023-02-20'],\n",
    "    'order_value': [500000, 200000, 350000, 0, 800000, 0, 400000, 100000, 0, 600000],\n",
    "    'city': ['Hanoi', 'Saigon', 'Hanoi', 'Danang', 'Saigon', 'Hanoi', 'Hanoi', 'Hue', 'Saigon', 'Saigon'],\n",
    "    'marketing_source': ['Facebook', 'Google Ads', 'Facebook', 'Organic', 'Tiktok',\n",
    "                         'Google Ads', 'Facebook', 'Organic', 'Tiktok', 'Facebook'],\n",
    "    'visit_id': ['V001', 'V002', 'V003', 'V004', 'V005', 'V006', 'V007', 'V008', 'V009', 'V010'],\n",
    "    'is_purchase': [1, 1, 1, 0, 1, 0, 1, 1, 0, 1]\n",
    "}\n",
    "\n",
    "df = pd.DataFrame(data)\n",
    "df['order_date'] = pd.to_datetime(df['order_date'])  # chuyển cột ngày về dạng datetime\n",
    "\n",
    "print(df)\n"
   ]
  },
  {
   "cell_type": "code",
   "execution_count": 4,
   "id": "1a145d86-6aeb-4594-83df-4961c139a356",
   "metadata": {},
   "outputs": [
    {
     "name": "stdout",
     "output_type": "stream",
     "text": [
      "421428.5714285714\n"
     ]
    }
   ],
   "source": [
    "#1. AOV- Average Order Value\n",
    "aov = df[df['order_value']>0]['order_value'].mean()\n",
    "print(aov)"
   ]
  },
  {
   "cell_type": "code",
   "execution_count": 5,
   "id": "a880370f-7958-49ea-9bc0-5532d5ea7892",
   "metadata": {},
   "outputs": [],
   "source": [
    "#2. Conversion Rate (tỉ lệ truy cập mua hàng)\n",
    "\n",
    "cr=df['is_purchase'].sum()/df['visit_id'].nunique()*100\n"
   ]
  },
  {
   "cell_type": "code",
   "execution_count": 8,
   "id": "40669237-1e0e-42ac-8357-89f39dc55852",
   "metadata": {},
   "outputs": [
    {
     "name": "stdout",
     "output_type": "stream",
     "text": [
      "0.6666666666666666\n"
     ]
    }
   ],
   "source": [
    "#3. Churn Rate theo tháng\n",
    "df['month']=pd.to_datetime(df['order_date']).dt.to_period('M')\n",
    "\n",
    "jan_customers=df[df['month']=='2023-01']['customer_id'].unique()\n",
    "feb_customers=df[df['month']=='2023-02']['customer_id'].unique()\n",
    "\n",
    "churned= set(jan_customers)-set(feb_customers)\n",
    "#Identifies customers who ordered in January 2023 but \n",
    "#not in February 2023 (i.e., churned customers).\n",
    "churn_rate=len(churned)/len(jan_customers)\n",
    "#calculates the churn rate, the proportion of January customers who did not order in February\n",
    "print(churn_rate)"
   ]
  },
  {
   "cell_type": "markdown",
   "id": "a18ed263-bc4b-4246-9c80-bcc6900529f2",
   "metadata": {},
   "source": [
    "NOTE\n",
    "len() – Đếm số lượng phần tử\n",
    "Trả về số lượng phần tử trong một list, tuple, dictionary, chuỗi, hoặc set."
   ]
  },
  {
   "cell_type": "code",
   "execution_count": 9,
   "id": "0c7cac2a-0761-4ad2-b518-0664db1de5f3",
   "metadata": {},
   "outputs": [
    {
     "name": "stdout",
     "output_type": "stream",
     "text": [
      "4\n"
     ]
    }
   ],
   "source": [
    "names = ['Tuan','Lan','Nam','Lan']\n",
    "print(len(names))"
   ]
  },
  {
   "cell_type": "raw",
   "id": "b74b4a0d-ebbd-4002-bed7-bdda69bd3d6a",
   "metadata": {},
   "source": [
    "NOTE set() - loại bỏ phần tử trùng lặp\n",
    "Dùng để tạo một tập hợp (set) không chứa phần tử trùng\n",
    "Tập hợp không có thứ tự, không cứa phần tử lặp lại"
   ]
  },
  {
   "cell_type": "code",
   "execution_count": 12,
   "id": "2eae064f-5656-4801-b160-8b22fd9b7dc3",
   "metadata": {},
   "outputs": [
    {
     "name": "stdout",
     "output_type": "stream",
     "text": [
      "{'Nam', 'Lan', 'Tuan'}\n",
      "3\n"
     ]
    }
   ],
   "source": [
    "names = ['Tuan', 'Lan', 'Nam', 'Lan']\n",
    "unique_names = set(names)\n",
    "print(unique_names)      \n",
    "print(len(unique_names))  \n"
   ]
  },
  {
   "cell_type": "code",
   "execution_count": 13,
   "id": "ab020e8e-3b5f-419d-9dbc-b2b7cbd8c79e",
   "metadata": {},
   "outputs": [
    {
     "name": "stdout",
     "output_type": "stream",
     "text": [
      "7\n"
     ]
    }
   ],
   "source": [
    "# Kết hợp set() và len() thường dùng trong phân tích dữ liệu:\n",
    "# Có bao nhiêu khách hàng khác nhau?\n",
    "unique_customers=len(set(df['customer_id']))\n",
    "print(unique_customers)"
   ]
  },
  {
   "cell_type": "code",
   "execution_count": 14,
   "id": "718088bd-5b6e-47a7-aa86-0b917cbe1c19",
   "metadata": {},
   "outputs": [
    {
     "data": {
      "text/plain": [
       "4"
      ]
     },
     "execution_count": 14,
     "metadata": {},
     "output_type": "execute_result"
    }
   ],
   "source": [
    "#Có bao nhiêu thành phố có khách đặt hàng?\n",
    "len(set(df['city']))\n"
   ]
  },
  {
   "cell_type": "raw",
   "id": "b7ec0f4a-300a-402d-9d18-e2a33060f7a8",
   "metadata": {},
   "source": [
    "CUSTOMER LIFETIME VALUE (CLV)\n",
    "#tính Customer Lifetime Value (CLV), tức là tổng số tiền mà mỗi khách hàng đã chi tiêu trong suốt thời gian họ mua hàng"
   ]
  },
  {
   "cell_type": "code",
   "execution_count": 17,
   "id": "c22a6a40-c052-4080-8e35-ceb04ea21e79",
   "metadata": {},
   "outputs": [],
   "source": [
    "# Đánh giá khách hàng giá trị nhất (dựa vào CLV)\n",
    "# Tính tổng chi tiêu (CLV)\n",
    "clv=df.groupby('customer_id')['order_value'].sum().reset_index()\n",
    "clv.columns=['customer_id','CLV']\n",
    "#sử dụng để tính Customer Lifetime Value (CLV), tức là tổng số tiền mà mỗi khách hàng đã chi tiêu trong suốt thời gian họ mua hàng."
   ]
  },
  {
   "cell_type": "code",
   "execution_count": 18,
   "id": "9c678dd6-8bfa-41f6-a3e9-f83783c33a13",
   "metadata": {},
   "outputs": [
    {
     "name": "stdout",
     "output_type": "stream",
     "text": [
      "  customer_id      CLV\n",
      "0        C001  1250000\n",
      "3        C004   800000\n",
      "6        C007   600000\n",
      "1        C002   200000\n",
      "5        C006   100000\n"
     ]
    }
   ],
   "source": [
    "#Xếp hạng khách hàng theo CLV\n",
    "clv_sorted = clv.sort_values(by='CLV', ascending=False)\n",
    "print(clv_sorted.head()) \n"
   ]
  },
  {
   "cell_type": "code",
   "execution_count": 19,
   "id": "2c9ef220-551f-48f4-aedc-bb7729116a68",
   "metadata": {},
   "outputs": [],
   "source": [
    "# So sánh vs CAC (Customer Acquisition Cost)\n",
    "# Giả sử bạn biết chi phí thu hút mỗi khách hàng (CAC), ví dụ: \n",
    "cac=300000 # giả định mỗi khách bạn tốn 300,000 để có được\n"
   ]
  },
  {
   "cell_type": "code",
   "execution_count": 21,
   "id": "4c741ff6-dbc4-4e24-bbde-aa2e0c0c0897",
   "metadata": {},
   "outputs": [
    {
     "name": "stdout",
     "output_type": "stream",
     "text": [
      "  customer_id      CLV  profit  is_profitable\n",
      "0        C001  1250000  950000           True\n",
      "1        C002   200000 -100000          False\n",
      "2        C003        0 -300000          False\n",
      "3        C004   800000  500000           True\n",
      "4        C005        0 -300000          False\n",
      "5        C006   100000 -200000          False\n",
      "6        C007   600000  300000           True\n"
     ]
    }
   ],
   "source": [
    "# Tính lãi/lỗ từ mỗi khách hàng\n",
    "clv['profit']=clv['CLV']- cac\n",
    "clv['is_profitable']=clv['profit']>0\n",
    "print(clv)"
   ]
  },
  {
   "cell_type": "code",
   "execution_count": 22,
   "id": "42505bcd-c120-4aff-9f38-7c5c63131ddd",
   "metadata": {},
   "outputs": [],
   "source": [
    "# Phân khúc khách hàng theo giá trị\n",
    "# Phân nhóm theo mức CLV\n"
   ]
  },
  {
   "cell_type": "raw",
   "id": "45560895-e6bc-473e-bb84-caa8995cd21d",
   "metadata": {},
   "source": [
    "def label_segment(x_value):\n",
    "    * def: từ khóa để định nghĩa một hàm\n",
    "    * label_segment: tên của hàm, bạn có thể đặt tùy ý (gơi nhớ là \"gán nhãn phân khúc\")\n",
    "    * (clv_value): đầu vào (input) là một giá trị CLV cụ thể của từng khách\n"
   ]
  },
  {
   "cell_type": "code",
   "execution_count": 26,
   "id": "466a8367-10f4-4796-9754-0e05d4e0fd79",
   "metadata": {},
   "outputs": [],
   "source": [
    "def label_segment(clv_value):\n",
    "    if clv_value >= 1000000:\n",
    "        return 'VIP'\n",
    "    elif clv_value >= 500000:\n",
    "        return 'Tiềm năng'\n",
    "    else:\n",
    "        return 'Thấp'"
   ]
  },
  {
   "cell_type": "code",
   "execution_count": null,
   "id": "1c4630bc-6012-4809-88ef-9e889fed6ef6",
   "metadata": {},
   "outputs": [],
   "source": []
  }
 ],
 "metadata": {
  "kernelspec": {
   "display_name": "Python 3 (ipykernel)",
   "language": "python",
   "name": "python3"
  },
  "language_info": {
   "codemirror_mode": {
    "name": "ipython",
    "version": 3
   },
   "file_extension": ".py",
   "mimetype": "text/x-python",
   "name": "python",
   "nbconvert_exporter": "python",
   "pygments_lexer": "ipython3",
   "version": "3.12.3"
  }
 },
 "nbformat": 4,
 "nbformat_minor": 5
}
