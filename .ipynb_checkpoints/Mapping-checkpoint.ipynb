{
 "cells": [
  {
   "cell_type": "code",
   "execution_count": 3,
   "id": "fc5d7b79-59d4-415d-a345-a0ea9bc19fd8",
   "metadata": {},
   "outputs": [],
   "source": [
    "import pandas as pd"
   ]
  },
  {
   "cell_type": "code",
   "execution_count": 5,
   "id": "4d7f3037-326a-416c-ae24-dcb0be09bd18",
   "metadata": {},
   "outputs": [],
   "source": [
    "df = pd.read_csv('D:\\\\Data-Analysis\\\\sales_data.csv')"
   ]
  },
  {
   "cell_type": "code",
   "execution_count": 6,
   "id": "46a40584-4f22-4c5b-a422-9fe69495bbca",
   "metadata": {},
   "outputs": [
    {
     "data": {
      "text/html": [
       "<div>\n",
       "<style scoped>\n",
       "    .dataframe tbody tr th:only-of-type {\n",
       "        vertical-align: middle;\n",
       "    }\n",
       "\n",
       "    .dataframe tbody tr th {\n",
       "        vertical-align: top;\n",
       "    }\n",
       "\n",
       "    .dataframe thead th {\n",
       "        text-align: right;\n",
       "    }\n",
       "</style>\n",
       "<table border=\"1\" class=\"dataframe\">\n",
       "  <thead>\n",
       "    <tr style=\"text-align: right;\">\n",
       "      <th></th>\n",
       "      <th>transaction_id</th>\n",
       "      <th>customer_id</th>\n",
       "      <th>product</th>\n",
       "      <th>category</th>\n",
       "      <th>quantity</th>\n",
       "      <th>price</th>\n",
       "      <th>date</th>\n",
       "    </tr>\n",
       "  </thead>\n",
       "  <tbody>\n",
       "    <tr>\n",
       "      <th>0</th>\n",
       "      <td>1001</td>\n",
       "      <td>C001</td>\n",
       "      <td>iPhone 14</td>\n",
       "      <td>electronics</td>\n",
       "      <td>1</td>\n",
       "      <td>999</td>\n",
       "      <td>2025-01-01</td>\n",
       "    </tr>\n",
       "    <tr>\n",
       "      <th>1</th>\n",
       "      <td>1002</td>\n",
       "      <td>C002</td>\n",
       "      <td>T-shirt</td>\n",
       "      <td>fashion</td>\n",
       "      <td>2</td>\n",
       "      <td>25</td>\n",
       "      <td>2025-01-02</td>\n",
       "    </tr>\n",
       "    <tr>\n",
       "      <th>2</th>\n",
       "      <td>1003</td>\n",
       "      <td>C001</td>\n",
       "      <td>Headphones</td>\n",
       "      <td>electronics</td>\n",
       "      <td>1</td>\n",
       "      <td>199</td>\n",
       "      <td>2025-01-03</td>\n",
       "    </tr>\n",
       "    <tr>\n",
       "      <th>3</th>\n",
       "      <td>1004</td>\n",
       "      <td>C003</td>\n",
       "      <td>Running Shoes</td>\n",
       "      <td>fashion</td>\n",
       "      <td>1</td>\n",
       "      <td>120</td>\n",
       "      <td>2025-01-04</td>\n",
       "    </tr>\n",
       "    <tr>\n",
       "      <th>4</th>\n",
       "      <td>1005</td>\n",
       "      <td>C002</td>\n",
       "      <td>Rice Cooker</td>\n",
       "      <td>home_appliances</td>\n",
       "      <td>1</td>\n",
       "      <td>80</td>\n",
       "      <td>2025-01-05</td>\n",
       "    </tr>\n",
       "  </tbody>\n",
       "</table>\n",
       "</div>"
      ],
      "text/plain": [
       "   transaction_id customer_id        product         category  quantity  \\\n",
       "0            1001        C001      iPhone 14      electronics         1   \n",
       "1            1002        C002        T-shirt          fashion         2   \n",
       "2            1003        C001     Headphones      electronics         1   \n",
       "3            1004        C003  Running Shoes          fashion         1   \n",
       "4            1005        C002    Rice Cooker  home_appliances         1   \n",
       "\n",
       "   price        date  \n",
       "0    999  2025-01-01  \n",
       "1     25  2025-01-02  \n",
       "2    199  2025-01-03  \n",
       "3    120  2025-01-04  \n",
       "4     80  2025-01-05  "
      ]
     },
     "execution_count": 6,
     "metadata": {},
     "output_type": "execute_result"
    }
   ],
   "source": [
    "df.head()"
   ]
  },
  {
   "cell_type": "code",
   "execution_count": 7,
   "id": "3b9c7e6c-2f98-4e3e-8737-92c8e59fd7b9",
   "metadata": {},
   "outputs": [
    {
     "name": "stdout",
     "output_type": "stream",
     "text": [
      "<class 'pandas.core.frame.DataFrame'>\n",
      "RangeIndex: 8 entries, 0 to 7\n",
      "Data columns (total 7 columns):\n",
      " #   Column          Non-Null Count  Dtype \n",
      "---  ------          --------------  ----- \n",
      " 0   transaction_id  8 non-null      int64 \n",
      " 1   customer_id     8 non-null      object\n",
      " 2   product         8 non-null      object\n",
      " 3   category        8 non-null      object\n",
      " 4   quantity        8 non-null      int64 \n",
      " 5   price           8 non-null      int64 \n",
      " 6   date            8 non-null      object\n",
      "dtypes: int64(3), object(4)\n",
      "memory usage: 580.0+ bytes\n"
     ]
    }
   ],
   "source": [
    "df.info()"
   ]
  },
  {
   "cell_type": "raw",
   "id": "06838097-02fb-4775-a563-5a232d9e89d8",
   "metadata": {},
   "source": [
    "1. Mapping: Chuyển category thành nhóm đơn giản hơn:\n",
    "electronics → \"Tech\"\n",
    "\n",
    "fashion → \"Clothing\"\n",
    "\n",
    "home_appliances → \"Home\""
   ]
  },
  {
   "cell_type": "raw",
   "id": "3e6c3d55-20f7-417e-a7b1-30bcc3cb4e08",
   "metadata": {},
   "source": [
    "Series.map() là một hàm dùng để:\n",
    "\n",
    "Thay thế hoặc chuyển đổi giá trị trong một Series (thường là một cột trong DataFrame).\n",
    "\n",
    "Nó có thể dùng với:\n",
    "\n",
    "Một dictionary để ánh xạ giá trị cụ thể.\n",
    "\n",
    "Một function để áp dụng hàm lên từng giá trị.\n",
    "\n"
   ]
  },
  {
   "cell_type": "raw",
   "id": "ee709db5-325f-4362-956d-c789d9cf792b",
   "metadata": {},
   "source": [
    "df['new_column'] = df['old_column'].map(mapping_dict_or_function)\n"
   ]
  },
  {
   "cell_type": "code",
   "execution_count": 10,
   "id": "aa491167-2004-4a1e-b27f-26c36542881c",
   "metadata": {},
   "outputs": [],
   "source": [
    "mapping_dict= {\n",
    "    'electronics': 'Tech',\n",
    "     'fashion': 'Clothing',\n",
    "      'home_appliances': 'Home'\n",
    "}\n",
    "df['category_group']=df['category'].map(mapping_dict)"
   ]
  },
  {
   "cell_type": "code",
   "execution_count": 11,
   "id": "c4d40128-e2ae-43a5-899b-ea8ab459963c",
   "metadata": {},
   "outputs": [
    {
     "name": "stdout",
     "output_type": "stream",
     "text": [
      "   transaction_id customer_id        product         category  quantity  \\\n",
      "0            1001        C001      iPhone 14      electronics         1   \n",
      "1            1002        C002        T-shirt          fashion         2   \n",
      "2            1003        C001     Headphones      electronics         1   \n",
      "3            1004        C003  Running Shoes          fashion         1   \n",
      "4            1005        C002    Rice Cooker  home_appliances         1   \n",
      "5            1006        C004         Laptop      electronics         1   \n",
      "6            1007        C001        T-shirt          fashion         3   \n",
      "7            1008        C005   Refrigerator  home_appliances         1   \n",
      "\n",
      "   price        date category_group  \n",
      "0    999  2025-01-01           Tech  \n",
      "1     25  2025-01-02       Clothing  \n",
      "2    199  2025-01-03           Tech  \n",
      "3    120  2025-01-04       Clothing  \n",
      "4     80  2025-01-05           Home  \n",
      "5   1200  2025-01-06           Tech  \n",
      "6     25  2025-01-07       Clothing  \n",
      "7    500  2025-01-08           Home  \n"
     ]
    }
   ],
   "source": [
    "print(df)"
   ]
  },
  {
   "cell_type": "code",
   "execution_count": null,
   "id": "9e16660c-ef09-4628-a05f-1050c067f0e2",
   "metadata": {},
   "outputs": [],
   "source": [
    "# USE CASE 1: Chuyển đổi mã quốc gia thành tên quốc gia"
   ]
  },
  {
   "cell_type": "code",
   "execution_count": 6,
   "id": "1fe1dece-c070-4dda-8080-24d792bdf235",
   "metadata": {},
   "outputs": [
    {
     "name": "stdout",
     "output_type": "stream",
     "text": [
      "  country_code   country_name\n",
      "0           VN        Vietnam\n",
      "1           US  United States\n",
      "2           JP          Japan\n",
      "3           VN        Vietnam\n",
      "4           US  United States\n"
     ]
    }
   ],
   "source": [
    "import pandas as pd\n",
    "\n",
    "df=pd.DataFrame({\n",
    "    'country_code':['VN','US','JP','VN','US']\n",
    "})\n",
    "mapping = {\n",
    "    'VN': 'Vietnam',\n",
    "    'US': 'United States',\n",
    "    'JP': 'Japan'\n",
    "}\n",
    "\n",
    "df['country_name']=df['country_code'].map(mapping)\n",
    "print(df)"
   ]
  },
  {
   "cell_type": "code",
   "execution_count": 7,
   "id": "d8778ad6-6dba-4d78-9f43-92b105774da5",
   "metadata": {},
   "outputs": [],
   "source": [
    "# USE CASE 2: Chuyển đổi giới tính từ số sang chữ"
   ]
  },
  {
   "cell_type": "code",
   "execution_count": 9,
   "id": "03054a7b-cce1-4d01-bf56-ea3178c9f449",
   "metadata": {},
   "outputs": [
    {
     "name": "stdout",
     "output_type": "stream",
     "text": [
      "   gender gender_text\n",
      "0       0      Female\n",
      "1       1        Male\n",
      "2       1        Male\n",
      "3       0      Female\n",
      "4       0      Female\n"
     ]
    }
   ],
   "source": [
    "df=pd.DataFrame({\n",
    "    'gender':[0,1,1,0,0]\n",
    "})\n",
    "df['gender_text']=df['gender'].map({0:'Female', 1:'Male'})\n",
    "print(df)"
   ]
  },
  {
   "cell_type": "code",
   "execution_count": 10,
   "id": "6e4296cc-1da3-4e45-b345-ffe2b49208d2",
   "metadata": {},
   "outputs": [],
   "source": [
    "#USE CASE 3: Sử dụng map() với hàm"
   ]
  },
  {
   "cell_type": "code",
   "execution_count": 12,
   "id": "0a3c336f-d445-4ed1-8ace-2e1e4ddb8ebe",
   "metadata": {},
   "outputs": [
    {
     "name": "stdout",
     "output_type": "stream",
     "text": [
      "      name name_lower\n",
      "0    Alice      alice\n",
      "1      BOB        bob\n",
      "2  CharLIE    charlie\n"
     ]
    }
   ],
   "source": [
    "df=pd.DataFrame({\n",
    "    'name':['Alice','BOB', 'CharLIE']\n",
    "})\n",
    "\n",
    "df['name_lower']=df['name'].map(lambda x: x.lower())\n",
    "print(df)"
   ]
  },
  {
   "cell_type": "raw",
   "id": "890eb079-f44f-45c5-9f9a-c851a1aebfff",
   "metadata": {},
   "source": [
    "2. Tính tổng tiền mỗi giao dịch"
   ]
  },
  {
   "cell_type": "code",
   "execution_count": 13,
   "id": "cd136d60-b291-448b-afe4-bbc4d562e74f",
   "metadata": {},
   "outputs": [
    {
     "name": "stdout",
     "output_type": "stream",
     "text": [
      "   transaction_id customer_id        product         category  quantity  \\\n",
      "0            1001        C001      iPhone 14      electronics         1   \n",
      "1            1002        C002        T-shirt          fashion         2   \n",
      "2            1003        C001     Headphones      electronics         1   \n",
      "3            1004        C003  Running Shoes          fashion         1   \n",
      "4            1005        C002    Rice Cooker  home_appliances         1   \n",
      "5            1006        C004         Laptop      electronics         1   \n",
      "6            1007        C001        T-shirt          fashion         3   \n",
      "7            1008        C005   Refrigerator  home_appliances         1   \n",
      "\n",
      "   price        date category_group  total  \n",
      "0    999  2025-01-01           Tech    999  \n",
      "1     25  2025-01-02       Clothing     50  \n",
      "2    199  2025-01-03           Tech    199  \n",
      "3    120  2025-01-04       Clothing    120  \n",
      "4     80  2025-01-05           Home     80  \n",
      "5   1200  2025-01-06           Tech   1200  \n",
      "6     25  2025-01-07       Clothing     75  \n",
      "7    500  2025-01-08           Home    500  \n"
     ]
    }
   ],
   "source": [
    "df['total']=df['quantity'] * df['price']\n",
    "print(df)"
   ]
  },
  {
   "cell_type": "markdown",
   "id": "23c37585-a138-4046-9da7-60af4d3ccecf",
   "metadata": {},
   "source": [
    "3. Windowing"
   ]
  },
  {
   "cell_type": "raw",
   "id": "217870a5-b820-4de3-bd50-90dd266f1873",
   "metadata": {},
   "source": [
    "Windowing là kỹ thuật dùng để tính toán các thống kê (trung bình, tổng v.v) \n",
    "dựa trên một khoảng dữ liệu liên tục, như:\n",
    "3 giao dịch gần nhất của mỗi khách hàng\n",
    "7 ngày gần nhất trong chuỗi thời gian bán hàng"
   ]
  },
  {
   "cell_type": "code",
   "execution_count": 19,
   "id": "eb3c8d76-d4c0-4b87-99cd-c66a3299ab66",
   "metadata": {},
   "outputs": [],
   "source": [
    "#Cú pháp cơ bản\n",
    "# df['new_col'] = df['old_col'].rolling(window=N).tính_toán()\n",
    "# window=N: số lượng dòng liên tiếp (vd: 3 nghĩa là tính toán trên 3 dòng gần nhất)\n",
    "# .tinh_toan(): thường là .mean(),.sum(),.min(),.max()\n"
   ]
  },
  {
   "cell_type": "raw",
   "id": "dd4ed589-920a-4142-a2d4-e921a57cac35",
   "metadata": {},
   "source": [
    "rolling là hàm cửa sổ trượt trong Pandas, dùng để tính toán các thống kê (trung bình, tổng v.v)\n",
    "trên một số lượng dòng liên tiếp (window). "
   ]
  },
  {
   "cell_type": "code",
   "execution_count": 16,
   "id": "482ee230-70f0-4dbd-9b45-9fa9e570767c",
   "metadata": {},
   "outputs": [],
   "source": [
    "#Giả sử bạn muốn tính tổng doanh thu trong 3 ngày gần nhất (cửa sổ trượt 3 ngày):"
   ]
  },
  {
   "cell_type": "raw",
   "id": "a7ad257c-05f0-4133-a662-36fab2226601",
   "metadata": {},
   "source": [
    "VD1: Trung bình 3 giao dịch gần nhất"
   ]
  },
  {
   "cell_type": "code",
   "execution_count": 21,
   "id": "cafad9bb-1280-4397-b707-5776b1f49509",
   "metadata": {},
   "outputs": [],
   "source": [
    "df['rolling_avg_3']=df['total'].rolling(window=3).mean()\n",
    "#dong thu 3 tro di se co gia tri la trung binh cua 3 dong lien tiep gan nhat"
   ]
  },
  {
   "cell_type": "raw",
   "id": "3feda295-7418-4d2f-8899-c533e26555c7",
   "metadata": {},
   "source": [
    "VD2: Tổng 2 dòng gần nhất"
   ]
  },
  {
   "cell_type": "code",
   "execution_count": 24,
   "id": "9f840e51-34af-4e8f-a56e-e4a6695044e5",
   "metadata": {},
   "outputs": [],
   "source": [
    "df['rolling_sum_2']=df['total'].rolling(window=2).sum()"
   ]
  },
  {
   "cell_type": "raw",
   "id": "b9734f35-a553-4fb3-9375-e47247aaf931",
   "metadata": {},
   "source": [
    "#rolling(window='3D') - dựa khoảng thời gian\n",
    "Đây là time-based rolling, dùng khi DataFrame có datetime index (ngày tháng làm chỉ số)"
   ]
  },
  {
   "cell_type": "code",
   "execution_count": null,
   "id": "16f4b8b9-af20-408b-a2e8-565c07dda730",
   "metadata": {},
   "outputs": [],
   "source": [
    "A.rolling(window=3).sum()\n"
   ]
  },
  {
   "cell_type": "markdown",
   "id": "b278423e-1fb4-4462-91b7-ab6ed97d3fcb",
   "metadata": {},
   "source": [
    "LIÊN KẾT DỮ LIỆU"
   ]
  },
  {
   "cell_type": "raw",
   "id": "2d4035a9-852d-4893-90a3-82f388aff6ef",
   "metadata": {},
   "source": [
    "#Đây là kỹ thuật kết hợp dữ liệu từ nhiều bảng (DataFrame) dựa trên khóa chung \n",
    "#(common key). Ví dụ: user_id, student_id, order_id...\n",
    "\n",
    "#pd.merge(): kết hợp theo khóa chung (giống SQL JOIN)\n",
    "# df.join(): gộp theo index hoặc cột cụ thể\n",
    "# pd.concat(): Nối theo hàng và cột\n",
    "\n",
    "pd.merge(left, right, how='inner', on='key_column')\n"
   ]
  },
  {
   "cell_type": "code",
   "execution_count": 18,
   "id": "5a4079a7-b282-4381-aca4-9f7d1ac8b65c",
   "metadata": {},
   "outputs": [],
   "source": [
    "import pandas as pd\n",
    "\n",
    "students = pd.DataFrame({\n",
    "    'student_id': [1, 2, 3],\n",
    "    'name': ['Alice', 'Bob', 'Charlie']\n",
    "})\n",
    "\n",
    "scores = pd.DataFrame({\n",
    "    'student_id': [1, 2, 4],\n",
    "    'score': [85, 92, 77]\n",
    "})\n"
   ]
  },
  {
   "cell_type": "code",
   "execution_count": 20,
   "id": "03e9dce2-2b22-454b-bea9-f277680baf7b",
   "metadata": {},
   "outputs": [
    {
     "name": "stdout",
     "output_type": "stream",
     "text": [
      "   student_id   name  score\n",
      "0           1  Alice     85\n",
      "1           2    Bob     92\n"
     ]
    }
   ],
   "source": [
    "result=pd.merge(students, scores, on='student_id', how='inner')\n",
    "print(result)"
   ]
  },
  {
   "cell_type": "code",
   "execution_count": 23,
   "id": "f36c40ba-8a3b-48c9-bbe4-d46e5797447d",
   "metadata": {},
   "outputs": [
    {
     "name": "stdout",
     "output_type": "stream",
     "text": [
      "   student_id     name  score\n",
      "0           1    Alice   85.0\n",
      "1           2      Bob   92.0\n",
      "2           3  Charlie    NaN\n"
     ]
    }
   ],
   "source": [
    "#Left join (giữ toàn bộ cột bên trái)\n",
    "result=pd.merge(students, scores, on='student_id', how='left')\n",
    "print(result)"
   ]
  },
  {
   "cell_type": "markdown",
   "id": "4fc6895c-4bc6-4c06-80d2-c3a467a607f8",
   "metadata": {},
   "source": [
    "USE CASE THỰC TẾ "
   ]
  },
  {
   "cell_type": "markdown",
   "id": "ae620b7e-2018-4af3-bf39-ab56e75b24ef",
   "metadata": {},
   "source": [
    "Yêu cầu:\n",
    "Tính tổng giá trị đơn hàng cho mỗi khách hàng (gồm tên khách + tổng tiền).\n",
    "\n",
    "Với mỗi đơn hàng, liệt kê: tên khách, sản phẩm, giá, số lượng, thành tiền, kho lưu hàng.\n",
    "\n",
    "Chỉ lấy những đơn hàng mà kho cùng tỉnh với khách hàng."
   ]
  },
  {
   "cell_type": "code",
   "execution_count": 1,
   "id": "8484a444-82ae-41a5-9505-f6474b51bff6",
   "metadata": {},
   "outputs": [],
   "source": [
    "import pandas as pd\n",
    "\n",
    "# Tạo các DataFrame\n",
    "orders = pd.DataFrame({\n",
    "    'order_id': [1, 2, 3, 4],\n",
    "    'customer_id': [101, 102, 101, 103],\n",
    "    'product_id': [1001, 1002, 1003, 1002],\n",
    "    'quantity': [2, 1, 1, 3]\n",
    "})\n",
    "\n",
    "customers = pd.DataFrame({\n",
    "    'customer_id': [101, 102, 103],\n",
    "    'name': ['An', 'Bình', 'Cường'],\n",
    "    'city': ['HCM', 'HN', 'Đà Nẵng']\n",
    "})\n",
    "\n",
    "products = pd.DataFrame({\n",
    "    'product_id': [1001, 1002, 1003],\n",
    "    'product_name': ['iPhone', 'MacBook', 'AirPods'],\n",
    "    'price': [1000, 2000, 200]\n",
    "})\n",
    "\n",
    "warehouses = pd.DataFrame({\n",
    "    'product_id': [1001, 1002, 1003],\n",
    "    'warehouse': ['HCM', 'HN', 'ĐN']\n",
    "})\n"
   ]
  },
  {
   "cell_type": "code",
   "execution_count": 2,
   "id": "37b09239-4d35-41f8-a518-f855fe7386ea",
   "metadata": {},
   "outputs": [],
   "source": [
    "# BUOC 1: GOP 4 BANG LAI"
   ]
  },
  {
   "cell_type": "code",
   "execution_count": 3,
   "id": "a52514fe-ef11-471f-a181-aa374b5f47d3",
   "metadata": {},
   "outputs": [],
   "source": [
    "df=orders.merge(customers, on='customer_id', how='left')\n",
    "df=df.merge(products, on='product_id', how='left')\n",
    "df=df.merge(warehouses,on='product_id', how='left')"
   ]
  },
  {
   "cell_type": "code",
   "execution_count": 4,
   "id": "93b3ecf7-8f82-43d5-9399-c710cfcf2bd2",
   "metadata": {},
   "outputs": [],
   "source": [
    "# BUOC 2: TÍNH THÀNH TIỀN\n",
    "df['total']=df['quantity']*df['price']\n"
   ]
  },
  {
   "cell_type": "code",
   "execution_count": 8,
   "id": "4a041d2c-cec1-42f5-97b1-18e9e6603318",
   "metadata": {},
   "outputs": [
    {
     "name": "stdout",
     "output_type": "stream",
     "text": [
      "   customer_id   name  total\n",
      "0          101     An   2200\n",
      "1          102   Bình   2000\n",
      "2          103  Cường   6000\n"
     ]
    }
   ],
   "source": [
    "# BUOC 3: TỔNG TIỀN THEO KHÁCH HÀNG\n",
    "summary=df.groupby(['customer_id','name'])['total'].sum().reset_index()\n",
    "print(summary)"
   ]
  },
  {
   "cell_type": "code",
   "execution_count": 9,
   "id": "b557263d-c250-4c13-9400-8b08121bcf2e",
   "metadata": {},
   "outputs": [],
   "source": [
    "# LỌC ĐƠN HÀNG CÓ KHO CÙNG TỈNH VỚI KHÁCH"
   ]
  },
  {
   "cell_type": "code",
   "execution_count": 10,
   "id": "3354d559-057a-4915-a266-d6614fa5a5cf",
   "metadata": {},
   "outputs": [],
   "source": [
    "df['city_clean']=df['city'].str.lower().str.strip()\n",
    "df['warehouse_clean']=df['warehouse'].str.lower().str.strip()\n",
    "\n",
    "same_location_orders=df[df['city_clean']==df['warehouse_clean']]"
   ]
  },
  {
   "cell_type": "raw",
   "id": "69576f5d-b817-4f2d-85b2-d90d5bff0aa2",
   "metadata": {},
   "source": [
    "Câu lệnh df[điều_kiện] nghĩa là gì?\n",
    "Đây là cách lọc các dòng (rows) trong một DataFrame theo điều kiện.\n",
    "df[condition] chỉ giữ lại các dòng mà condition == True\n",
    "df['city_clean'] == df['warehouse_clean']"
   ]
  },
  {
   "cell_type": "code",
   "execution_count": 11,
   "id": "1ed8048d-8be6-4c9f-bf74-5981e3e1cfe3",
   "metadata": {},
   "outputs": [],
   "source": [
    "# Làm thế nào để biết sản phẩm nào bán chạy nhất ở mỗi thành phố?\n",
    "# tìm sản phẩm có tổng lượng sản phẩm bán ra lớn nhất ở mỗi thành phố (city)"
   ]
  },
  {
   "cell_type": "code",
   "execution_count": 12,
   "id": "dd1d68fd-9e52-49ed-8e2d-65ed8a11c8ab",
   "metadata": {},
   "outputs": [],
   "source": [
    "# B1: Gộp bảng orders + customers + products\n",
    "df=orders.merge(customers, on='customer_id',how='left')\n",
    "df=df.merge(products, on='product_id', how='left')"
   ]
  },
  {
   "cell_type": "code",
   "execution_count": 14,
   "id": "30fb302f-3f42-4573-95e4-27796bfa5bb6",
   "metadata": {},
   "outputs": [
    {
     "name": "stdout",
     "output_type": "stream",
     "text": [
      "      city product_name  quantity\n",
      "0      HCM      AirPods         1\n",
      "1      HCM       iPhone         2\n",
      "2       HN      MacBook         1\n",
      "3  Đà Nẵng      MacBook         3\n"
     ]
    }
   ],
   "source": [
    "#B2: Nhóm theo city và product_name, tính tổng số lượng\n",
    "grouped=df.groupby(['city','product_name'])['quantity'].sum().reset_index()\n",
    "print(grouped)"
   ]
  },
  {
   "cell_type": "code",
   "execution_count": 17,
   "id": "821ac752-3b18-4f4c-a730-d9dd97e959dc",
   "metadata": {},
   "outputs": [
    {
     "name": "stdout",
     "output_type": "stream",
     "text": [
      "      city product_name  quantity\n",
      "0      HCM       iPhone         2\n",
      "1       HN      MacBook         1\n",
      "2  Đà Nẵng      MacBook         3\n"
     ]
    }
   ],
   "source": [
    "#B3: Với mỗi thành phố, tìm sản phẩm có số lượng cao nhất\n",
    "# Sắp xếp giảm dần theo quantity\n",
    "grouped_sorted= grouped.sort_values(['city','quantity'],ascending=[True,False])\n",
    "\n",
    "#Lấy sản phẩm đầu tiên (max) cho mỗi thành phố\n",
    "best_sellers= grouped_sorted.groupby('city').first().reset_index()\n",
    "print(best_sellers)"
   ]
  },
  {
   "cell_type": "code",
   "execution_count": 18,
   "id": "9a29ded1-34d7-4fe1-bb59-8dad92f6dac6",
   "metadata": {},
   "outputs": [],
   "source": [
    "#Tìm đơn hàng lớn nhất cho từng khách"
   ]
  },
  {
   "cell_type": "code",
   "execution_count": 21,
   "id": "e6f61c51-86c8-454b-aa99-19978b679d71",
   "metadata": {},
   "outputs": [],
   "source": [
    "#df_sorted=df.sort_values(['customer_id','total'],ascending=[True, False])\n",
    "# là một bước sắp xếp dữ liệu trong DataFrame theo nhiều cột cùng lúc\n",
    "# Mục đích: sắp xếp đơn hàng theo khách hàng, và trong mỗi khách hàng thì sắp theo tổng tiền \n",
    "#giảm dần, để chuẩn bị lấy đơn hàng lớn nhất của từng người\n",
    "#Sắp customer_id tăng dần (1 → 2 → 3...), nhưng total thì giảm dần (1000 → 500 → 200)"
   ]
  },
  {
   "cell_type": "code",
   "execution_count": 27,
   "id": "96429722-c995-4f39-9b72-3f029c382c3f",
   "metadata": {},
   "outputs": [],
   "source": [
    "df['total']=df['quantity']*df['price']"
   ]
  },
  {
   "cell_type": "code",
   "execution_count": 29,
   "id": "a5b98356-589d-4dbd-bac5-29eb44a0cd49",
   "metadata": {},
   "outputs": [
    {
     "name": "stdout",
     "output_type": "stream",
     "text": [
      "   customer_id   name  order_id product_name  total\n",
      "0          101     An         1       iPhone   2000\n",
      "1          102   Bình         2      MacBook   2000\n",
      "2          103  Cường         4      MacBook   6000\n"
     ]
    }
   ],
   "source": [
    "# Sắp xếp theo customer_id và total giảm dần\n",
    "df_sorted = df.sort_values(['customer_id', 'total'], ascending=[True, False])\n",
    "\n",
    "# Lấy đơn đầu tiên (lớn nhất) cho mỗi customer_id\n",
    "largest_orders = df_sorted.groupby('customer_id').first().reset_index()\n",
    "\n",
    "# (Tuỳ chọn) Chỉ lấy các cột cần thiết:\n",
    "result = largest_orders[['customer_id', 'name', 'order_id', 'product_name', 'total']]\n",
    "print(result)"
   ]
  },
  {
   "cell_type": "code",
   "execution_count": null,
   "id": "eba92c26-1b01-4fd3-8ec4-82ecc45a5503",
   "metadata": {},
   "outputs": [],
   "source": []
  }
 ],
 "metadata": {
  "kernelspec": {
   "display_name": "Python 3 (ipykernel)",
   "language": "python",
   "name": "python3"
  },
  "language_info": {
   "codemirror_mode": {
    "name": "ipython",
    "version": 3
   },
   "file_extension": ".py",
   "mimetype": "text/x-python",
   "name": "python",
   "nbconvert_exporter": "python",
   "pygments_lexer": "ipython3",
   "version": "3.12.3"
  }
 },
 "nbformat": 4,
 "nbformat_minor": 5
}
